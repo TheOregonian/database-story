{
 "cells": [
  {
   "cell_type": "code",
   "execution_count": 1,
   "metadata": {
    "collapsed": false
   },
   "outputs": [
    {
     "data": {
      "text/html": [
       "<style>.container { width:100% !important; }</style>"
      ],
      "text/plain": [
       "<IPython.core.display.HTML object>"
      ]
     },
     "metadata": {},
     "output_type": "display_data"
    }
   ],
   "source": [
    "import pandas as pd\n",
    "import numpy as np\n",
    "from IPython.core.display import display, HTML\n",
    "display(HTML(\"<style>.container { width:100% !important; }</style>\"))\n",
    "df = pd.read_csv('../../data/processed/complaints-before-state-updates.csv')"
   ]
  },
  {
   "cell_type": "markdown",
   "metadata": {},
   "source": [
    "We used the complaint data to substantiate the following passages from the story:"
   ]
  },
  {
   "cell_type": "markdown",
   "metadata": {},
   "source": [
    "<i>For example, state records show there were at least 11 thefts from residents at Emeritus Springfield Woodside, an assisted living facility, in a three-month period in 2013. The largest amount stolen was $300. In each case, the state faulted the facility for failing to provide a safe environment for residents, a violation of Oregon’s long-term care regulations, and an “unknown person” for financial exploitation, a form of abuse.\n",
    "\n",
    "None of these substantiated complaints are on the state’s website.\n",
    "\n",
    "Yet very similar complaints -- made in the same year, against a care center with the same owners, and located in the same city -- are all online.\n",
    "\n",
    "Search the state website for “Emeritus at Springfield-The Briarwood,” and you’ll find records corresponding to thefts of two fishing poles, tackle boxes and $370 in cash.</i>"
   ]
  },
  {
   "cell_type": "markdown",
   "metadata": {},
   "source": [
    "<h3>How many cases of property loss/theft that are offline were there at Emeritus Springfield Woodside (ID 70M226) in 2013, in how many months?</h3>"
   ]
  },
  {
   "cell_type": "code",
   "execution_count": 2,
   "metadata": {
    "collapsed": false,
    "scrolled": false
   },
   "outputs": [
    {
     "data": {
      "text/plain": [
       "outcome          10\n",
       "incident_date    10\n",
       "dtype: int64"
      ]
     },
     "execution_count": 2,
     "metadata": {},
     "output_type": "execute_result"
    }
   ],
   "source": [
    "df[['outcome','incident_date']][(df['facility_id']=='70M226') &\n",
    "   (df['incident_date']<'2013-08-01') & \n",
    "   (df['incident_date']>'2013-05-01') &\n",
    "   (df['public']=='offline') &\n",
    "   (df['outcome'].str.contains('Property'))].sort_values('incident_date').count()"
   ]
  },
  {
   "cell_type": "code",
   "execution_count": 6,
   "metadata": {
    "collapsed": false
   },
   "outputs": [
    {
     "data": {
      "text/html": [
       "<div>\n",
       "<table border=\"1\" class=\"dataframe\">\n",
       "  <thead>\n",
       "    <tr style=\"text-align: right;\">\n",
       "      <th></th>\n",
       "      <th>abuse_number</th>\n",
       "      <th>outcome_notes</th>\n",
       "    </tr>\n",
       "  </thead>\n",
       "  <tbody>\n",
       "    <tr>\n",
       "      <th>12279</th>\n",
       "      <td>ES133617</td>\n",
       "      <td>Resident #1 reported $40 cash and jewelry taken from her/his room. No suspects were identified. The facility failed to provide a safe environment and is a violation of Oregon Administrative Rules.  An unknown person was held responsible for theft, is considered financial exploitation and constitutes abuse.</td>\n",
       "    </tr>\n",
       "    <tr>\n",
       "      <th>12281</th>\n",
       "      <td>ES133814</td>\n",
       "      <td>Resident #1 reported $25 cash missing from the locked cabinet in her/his room. Resident #1 keeps the key to the locked cabinet with her/him and always locks the door when not in room. RP2 was suspected but investigation was unable to verify who took Resident #1's money. There have been multiple thefts reported at the facility. The facility failed to provide a safe environment. The failure is a violation of Oregon Administrative Rules. An unknown person was held responsible for theft, is considered financial exploitation and constitutes abuse.</td>\n",
       "    </tr>\n",
       "    <tr>\n",
       "      <th>12282</th>\n",
       "      <td>ES133720</td>\n",
       "      <td>Resident #1 reported $20 cash missing. Resident #1 kept the cash on her/him unless in her/his room. There have been multiple thefts reported at the facility. The facility failed to provide a safe environment. The failure is a violation of Oregon Administrative Rules. An unknown person was held responsible for theft, is considered financial exploitation and constitutes abuse.</td>\n",
       "    </tr>\n",
       "    <tr>\n",
       "      <th>12283</th>\n",
       "      <td>ES133683</td>\n",
       "      <td>Resident #1 reported $50 missing from a wallet kept in a vest pocket and is only removed at night when going to bed. There have been multiple thefts reported at the facility. The facility failed to provide a safe environment. The failure is a violation of Oregon Administrative Rules. An unknown person was held responsible for theft, is considered financial exploitation and constitutes abuse.</td>\n",
       "    </tr>\n",
       "    <tr>\n",
       "      <th>12284</th>\n",
       "      <td>ES133958</td>\n",
       "      <td>Resident #1 reported missing a jar full of change estimated at $30 missing from the locked cabinet in her/his room. There have been multiple thefts reported at the facility. The facility failed to provide a safe environment. The failure is a violation of Oregon Administrative Rules. An unknown person was held responsible for theft, is considered financial exploitation and constitutes abuse.</td>\n",
       "    </tr>\n",
       "    <tr>\n",
       "      <th>12285</th>\n",
       "      <td>ES133678</td>\n",
       "      <td>Resident #1 reported $125 cash missing from a wallet kept in a storage bin on her/his mobility devise. There have been multiple recent thefts at the facility. The facility failed to provide a safe environment. The failure is a violation of Oregon Administrative Rules. An unknown person was found responsible for theft of money, is considered financial exploitation and constitutes abuse.</td>\n",
       "    </tr>\n",
       "    <tr>\n",
       "      <th>12286</th>\n",
       "      <td>ES133237</td>\n",
       "      <td>Resident #1 reported the loss of $300. There have been multiple thefts at the facility. Facility failed to provide a safe environment. The failure is a violation of Oregon Administrative Rules. An unknown individual was held responsible for theft of money, is considered financial exploitation and constitutes abuse.</td>\n",
       "    </tr>\n",
       "    <tr>\n",
       "      <th>12288</th>\n",
       "      <td>ES133441</td>\n",
       "      <td>Resident #1 reported loss of $20 from her/his locked room. The facility failed to provide a safe environment resulting in the loss of resident property. The failure is a violation of Oregon Administrative Rules. An unknown person was held responsible for theft, is considered financial exploitation and constitutes abuse.</td>\n",
       "    </tr>\n",
       "    <tr>\n",
       "      <th>12289</th>\n",
       "      <td>ES133150</td>\n",
       "      <td>Resident #1 and Resident #2 reported loss of money from their respective rooms sometime between May 6 and May 7, 2013. The facility failed to provide a safe environment resulting in the loss of resident property. The failure is a violation of Oregon Administrative Rules. An unknown individual was held responsible for theft, is considered financial exploitation and constitutes abuse.</td>\n",
       "    </tr>\n",
       "    <tr>\n",
       "      <th>12290</th>\n",
       "      <td>ES133673</td>\n",
       "      <td>Resident #1 reported money missing from her/his wallet on two separate occasions. Internal investigation was conducted. The facility failed to provide a safe environment. The failure is a violation of Oregon Administrative Rules. An unknown person was held responsible for theft, is considered financial exploitation and constitutes abuse.</td>\n",
       "    </tr>\n",
       "  </tbody>\n",
       "</table>\n",
       "</div>"
      ],
      "text/plain": [
       "      abuse_number  \\\n",
       "12279  ES133617      \n",
       "12281  ES133814      \n",
       "12282  ES133720      \n",
       "12283  ES133683      \n",
       "12284  ES133958      \n",
       "12285  ES133678      \n",
       "12286  ES133237      \n",
       "12288  ES133441      \n",
       "12289  ES133150      \n",
       "12290  ES133673      \n",
       "\n",
       "                                                                                                                                                                                                                                                                                                                                                                                                                                                                                                                                                              outcome_notes  \n",
       "12279  Resident #1 reported $40 cash and jewelry taken from her/his room. No suspects were identified. The facility failed to provide a safe environment and is a violation of Oregon Administrative Rules.  An unknown person was held responsible for theft, is considered financial exploitation and constitutes abuse.                                                                                                                                                                                                                                                   \n",
       "12281  Resident #1 reported $25 cash missing from the locked cabinet in her/his room. Resident #1 keeps the key to the locked cabinet with her/him and always locks the door when not in room. RP2 was suspected but investigation was unable to verify who took Resident #1's money. There have been multiple thefts reported at the facility. The facility failed to provide a safe environment. The failure is a violation of Oregon Administrative Rules. An unknown person was held responsible for theft, is considered financial exploitation and constitutes abuse.  \n",
       "12282  Resident #1 reported $20 cash missing. Resident #1 kept the cash on her/him unless in her/his room. There have been multiple thefts reported at the facility. The facility failed to provide a safe environment. The failure is a violation of Oregon Administrative Rules. An unknown person was held responsible for theft, is considered financial exploitation and constitutes abuse.                                                                                                                                                                             \n",
       "12283  Resident #1 reported $50 missing from a wallet kept in a vest pocket and is only removed at night when going to bed. There have been multiple thefts reported at the facility. The facility failed to provide a safe environment. The failure is a violation of Oregon Administrative Rules. An unknown person was held responsible for theft, is considered financial exploitation and constitutes abuse.                                                                                                                                                            \n",
       "12284  Resident #1 reported missing a jar full of change estimated at $30 missing from the locked cabinet in her/his room. There have been multiple thefts reported at the facility. The facility failed to provide a safe environment. The failure is a violation of Oregon Administrative Rules. An unknown person was held responsible for theft, is considered financial exploitation and constitutes abuse.                                                                                                                                                             \n",
       "12285  Resident #1 reported $125 cash missing from a wallet kept in a storage bin on her/his mobility devise. There have been multiple recent thefts at the facility. The facility failed to provide a safe environment. The failure is a violation of Oregon Administrative Rules. An unknown person was found responsible for theft of money, is considered financial exploitation and constitutes abuse.                                                                                                                                                                  \n",
       "12286  Resident #1 reported the loss of $300. There have been multiple thefts at the facility. Facility failed to provide a safe environment. The failure is a violation of Oregon Administrative Rules. An unknown individual was held responsible for theft of money, is considered financial exploitation and constitutes abuse.                                                                                                                                                                                                                                          \n",
       "12288  Resident #1 reported loss of $20 from her/his locked room. The facility failed to provide a safe environment resulting in the loss of resident property. The failure is a violation of Oregon Administrative Rules. An unknown person was held responsible for theft, is considered financial exploitation and constitutes abuse.                                                                                                                                                                                                                                     \n",
       "12289  Resident #1 and Resident #2 reported loss of money from their respective rooms sometime between May 6 and May 7, 2013. The facility failed to provide a safe environment resulting in the loss of resident property. The failure is a violation of Oregon Administrative Rules. An unknown individual was held responsible for theft, is considered financial exploitation and constitutes abuse.                                                                                                                                                                     \n",
       "12290  Resident #1 reported money missing from her/his wallet on two separate occasions. Internal investigation was conducted. The facility failed to provide a safe environment. The failure is a violation of Oregon Administrative Rules. An unknown person was held responsible for theft, is considered financial exploitation and constitutes abuse.                                                                                                                                                                                                                   "
      ]
     },
     "execution_count": 6,
     "metadata": {},
     "output_type": "execute_result"
    }
   ],
   "source": [
    "df[['abuse_number','outcome_notes']][(df['facility_id']=='70M226') &\n",
    "   (df['incident_date']<'2013-08-01') & \n",
    "   (df['incident_date']>'2013-05-01') &\n",
    "   (df['public']=='offline') &\n",
    "   (df['outcome'].str.contains('Property'))]"
   ]
  },
  {
   "cell_type": "markdown",
   "metadata": {},
   "source": [
    "The case below lists two thefts. That's why our total in the paragraph is 11."
   ]
  },
  {
   "cell_type": "code",
   "execution_count": 37,
   "metadata": {
    "collapsed": false
   },
   "outputs": [
    {
     "data": {
      "text/plain": [
       "12289    Resident #1 and Resident #2 reported loss of money from their respective rooms sometime between May 6 and May 7, 2013. The facility failed to provide a safe environment resulting in the loss of resident property. The failure is a violation of Oregon Administrative Rules. An unknown individual was held responsible for theft, is considered financial exploitation and constitutes abuse.\n",
       "Name: outcome_notes, dtype: object"
      ]
     },
     "execution_count": 37,
     "metadata": {},
     "output_type": "execute_result"
    }
   ],
   "source": [
    "df['outcome_notes'][df['abuse_number']=='ES133150']"
   ]
  },
  {
   "cell_type": "markdown",
   "metadata": {},
   "source": [
    "<h3>What cases at Briarwood were there that same year that are online and comparable to the offline ones at Woodside?</h3>"
   ]
  },
  {
   "cell_type": "code",
   "execution_count": 50,
   "metadata": {
    "collapsed": true
   },
   "outputs": [
    {
     "data": {
      "text/html": [
       "<div>\n",
       "<table border=\"1\" class=\"dataframe\">\n",
       "  <thead>\n",
       "    <tr style=\"text-align: right;\">\n",
       "      <th></th>\n",
       "      <th>outcome_notes</th>\n",
       "      <th>abuse_number</th>\n",
       "    </tr>\n",
       "  </thead>\n",
       "  <tbody>\n",
       "    <tr>\n",
       "      <th>9923</th>\n",
       "      <td>A total of $370 worth of PIF (Personal Incidental Funds) belonging to three residents were taken from a lockbox located in the administration office. The facility failed to provide a safe environment resulting in the loss of resident money. The failure is a violation of resident rights, is considered neglect of care resulting in financial exploitation and constitutes abuse. An unknown person was also held responsible for financial exploitation and constitutes abuse.</td>\n",
       "      <td>ES134746</td>\n",
       "    </tr>\n",
       "    <tr>\n",
       "      <th>9958</th>\n",
       "      <td>Jewelry, estimated at $200-$300 was reported taken from Resident #1\u001as unsecured locking drawer. The facility failed to report or conduct an internal investigation. The facility failed to provide a safe environment. The failure is a violation of resident rights, is considered neglect of care resulting in financial exploitation and constitutes abuse. An unknown person was also found responsible for financial exploitation and constitutes abuse.</td>\n",
       "      <td>ES133333</td>\n",
       "    </tr>\n",
       "    <tr>\n",
       "      <th>9961</th>\n",
       "      <td>Resident #1 reported two fishing poles and two tackle boxes missing from her/his locked room. The facility failed to provide a safe environment. The failure is a violation of resident rights, is considered neglect of care resulting in financial exploitation and constitutes abuse.</td>\n",
       "      <td>ES133151</td>\n",
       "    </tr>\n",
       "    <tr>\n",
       "      <th>9962</th>\n",
       "      <td>Resident #1 reported a bag missing from her/his walker. An unidentified staff member later found the bag near the facility dumpster. Resident #1's keys and wallet were removed. The following day, Resident #1's car was stolen from the facility's parking lot. The facility failed to provide a safe environment. The failures are violations of resident rights, are considered neglect of care resulting in financial exploitation and constitutes abuse. An unknown individual was also found responsible for financial exploitation and constitutes abuse.</td>\n",
       "      <td>ES133128</td>\n",
       "    </tr>\n",
       "    <tr>\n",
       "      <th>9964</th>\n",
       "      <td>Resident #1 reported the loss of 28 narcotic pain pills from her/his locked room. The facility failed to provide a safe environment and conduct an internal investigation. The failures are violations of resident rights, are considered neglect of care resulting in financial exploitation and constitutes abuse. An unknown individual was also found responsible for financial exploitation and constitutes abuse.</td>\n",
       "      <td>ES133033</td>\n",
       "    </tr>\n",
       "    <tr>\n",
       "      <th>9965</th>\n",
       "      <td>Resident #1 reported a brand new laptop worth approximately $700 missing from her/his room. The facility failed to provide a safe environment and conduct an internal investigation. The failures are violations of resident rights, are considered neglect of care resulting in financial exploitation and constitutes abuse. An unknown was also held responsible for financial exploitation and constitutes abuse.</td>\n",
       "      <td>ES132740</td>\n",
       "    </tr>\n",
       "  </tbody>\n",
       "</table>\n",
       "</div>"
      ],
      "text/plain": [
       "                                                                                                                                                                                                                                                                                                                                                                                                                                                                                                                                                          outcome_notes  \\\n",
       "9923  A total of $370 worth of PIF (Personal Incidental Funds) belonging to three residents were taken from a lockbox located in the administration office. The facility failed to provide a safe environment resulting in the loss of resident money. The failure is a violation of resident rights, is considered neglect of care resulting in financial exploitation and constitutes abuse. An unknown person was also held responsible for financial exploitation and constitutes abuse.                                                                              \n",
       "9958  Jewelry, estimated at $200-$300 was reported taken from Resident #1\u001as unsecured locking drawer. The facility failed to report or conduct an internal investigation. The facility failed to provide a safe environment. The failure is a violation of resident rights, is considered neglect of care resulting in financial exploitation and constitutes abuse. An unknown person was also found responsible for financial exploitation and constitutes abuse.                                                                                                       \n",
       "9961  Resident #1 reported two fishing poles and two tackle boxes missing from her/his locked room. The facility failed to provide a safe environment. The failure is a violation of resident rights, is considered neglect of care resulting in financial exploitation and constitutes abuse.                                                                                                                                                                                                                                                                            \n",
       "9962  Resident #1 reported a bag missing from her/his walker. An unidentified staff member later found the bag near the facility dumpster. Resident #1's keys and wallet were removed. The following day, Resident #1's car was stolen from the facility's parking lot. The facility failed to provide a safe environment. The failures are violations of resident rights, are considered neglect of care resulting in financial exploitation and constitutes abuse. An unknown individual was also found responsible for financial exploitation and constitutes abuse.   \n",
       "9964  Resident #1 reported the loss of 28 narcotic pain pills from her/his locked room. The facility failed to provide a safe environment and conduct an internal investigation. The failures are violations of resident rights, are considered neglect of care resulting in financial exploitation and constitutes abuse. An unknown individual was also found responsible for financial exploitation and constitutes abuse.                                                                                                                                             \n",
       "9965  Resident #1 reported a brand new laptop worth approximately $700 missing from her/his room. The facility failed to provide a safe environment and conduct an internal investigation. The failures are violations of resident rights, are considered neglect of care resulting in financial exploitation and constitutes abuse. An unknown was also held responsible for financial exploitation and constitutes abuse.                                                                                                                                               \n",
       "\n",
       "     abuse_number  \n",
       "9923  ES134746     \n",
       "9958  ES133333     \n",
       "9961  ES133151     \n",
       "9962  ES133128     \n",
       "9964  ES133033     \n",
       "9965  ES132740     "
      ]
     },
     "execution_count": 50,
     "metadata": {},
     "output_type": "execute_result"
    }
   ],
   "source": [
    "df[['outcome_notes','abuse_number']][(df['facility_id']=='70A299') & \n",
    "   (df['outcome']=='Loss of Resident Property') & \n",
    "   (df['public']=='online') &\n",
    "   (df['year']==2013)]"
   ]
  },
  {
   "cell_type": "markdown",
   "metadata": {},
   "source": [
    "Upon review, use my own judgement to determine that cases ES134746 and ES133151 have a similar severity to the ten cases at Woodside."
   ]
  },
  {
   "cell_type": "code",
   "execution_count": 7,
   "metadata": {
    "collapsed": false
   },
   "outputs": [
    {
     "data": {
      "text/html": [
       "<div>\n",
       "<table border=\"1\" class=\"dataframe\">\n",
       "  <thead>\n",
       "    <tr style=\"text-align: right;\">\n",
       "      <th></th>\n",
       "      <th>abuse_number</th>\n",
       "      <th>outcome_notes</th>\n",
       "    </tr>\n",
       "  </thead>\n",
       "  <tbody>\n",
       "    <tr>\n",
       "      <th>9923</th>\n",
       "      <td>ES134746</td>\n",
       "      <td>A total of $370 worth of PIF (Personal Incidental Funds) belonging to three residents were taken from a lockbox located in the administration office. The facility failed to provide a safe environment resulting in the loss of resident money. The failure is a violation of resident rights, is considered neglect of care resulting in financial exploitation and constitutes abuse. An unknown person was also held responsible for financial exploitation and constitutes abuse.</td>\n",
       "    </tr>\n",
       "    <tr>\n",
       "      <th>9961</th>\n",
       "      <td>ES133151</td>\n",
       "      <td>Resident #1 reported two fishing poles and two tackle boxes missing from her/his locked room. The facility failed to provide a safe environment. The failure is a violation of resident rights, is considered neglect of care resulting in financial exploitation and constitutes abuse.</td>\n",
       "    </tr>\n",
       "  </tbody>\n",
       "</table>\n",
       "</div>"
      ],
      "text/plain": [
       "     abuse_number  \\\n",
       "9923  ES134746      \n",
       "9961  ES133151      \n",
       "\n",
       "                                                                                                                                                                                                                                                                                                                                                                                                                                                                               outcome_notes  \n",
       "9923  A total of $370 worth of PIF (Personal Incidental Funds) belonging to three residents were taken from a lockbox located in the administration office. The facility failed to provide a safe environment resulting in the loss of resident money. The failure is a violation of resident rights, is considered neglect of care resulting in financial exploitation and constitutes abuse. An unknown person was also held responsible for financial exploitation and constitutes abuse.  \n",
       "9961  Resident #1 reported two fishing poles and two tackle boxes missing from her/his locked room. The facility failed to provide a safe environment. The failure is a violation of resident rights, is considered neglect of care resulting in financial exploitation and constitutes abuse.                                                                                                                                                                                                "
      ]
     },
     "execution_count": 7,
     "metadata": {},
     "output_type": "execute_result"
    }
   ],
   "source": [
    "df[['abuse_number','outcome_notes']][df['abuse_number'].isin(['ES133151','ES134746'])]"
   ]
  },
  {
   "cell_type": "markdown",
   "metadata": {},
   "source": [
    "<h1>DONE</h1>"
   ]
  }
 ],
 "metadata": {
  "anaconda-cloud": {},
  "kernelspec": {
   "display_name": "Python [default]",
   "language": "python",
   "name": "python3"
  },
  "language_info": {
   "codemirror_mode": {
    "name": "ipython",
    "version": 3
   },
   "file_extension": ".py",
   "mimetype": "text/x-python",
   "name": "python",
   "nbconvert_exporter": "python",
   "pygments_lexer": "ipython3",
   "version": "3.5.2"
  }
 },
 "nbformat": 4,
 "nbformat_minor": 1
}
