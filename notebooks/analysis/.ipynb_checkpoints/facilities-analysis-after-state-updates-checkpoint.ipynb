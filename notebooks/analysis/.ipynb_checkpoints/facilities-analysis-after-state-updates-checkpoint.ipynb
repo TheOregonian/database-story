{
 "cells": [
  {
   "cell_type": "markdown",
   "metadata": {},
   "source": [
    "This is a dataset of Assisted Living, Nursing and Residential Care facilities in Oregon, open as of January, 2017. For each, we have:\n",
    "1. <i>facility_id:</i> Unique ID used to join to complaints\n",
    "2. <i>fac_ccmunumber:</i> Unique ID used to join to ownership history\n",
    "3. <i>facility_type:</i> NF - Nursing Facility; RCF - Residential Care Facility; ALF - Assisted Living Facility\n",
    "4. <i>fac_capacity:</i> Number of beds facility is licensed to have. Not necessarily the number of beds facility does have.\n",
    "5. <i>offline:</i> created in munging notebook, a count of complaints that DO NOT appear when facility is searched on state's complaint search website (https://apps.state.or.us/cf2/spd/facility_complaints/).\n",
    "6. <i>online:</i> created in munging notebook, a count of complaints that DO appear when facility is searched on state's complaint search website (https://apps.state.or.us/cf2/spd/facility_complaints/)."
   ]
  },
  {
   "cell_type": "code",
   "execution_count": 29,
   "metadata": {
    "collapsed": false
   },
   "outputs": [
    {
     "data": {
      "text/html": [
       "<style>.container { width:100% !important; }</style>"
      ],
      "text/plain": [
       "<IPython.core.display.HTML object>"
      ]
     },
     "metadata": {},
     "output_type": "display_data"
    }
   ],
   "source": [
    "import pandas as pd\n",
    "import numpy as np\n",
    "from IPython.core.display import display, HTML\n",
    "display(HTML(\"<style>.container { width:100% !important; }</style>\"))"
   ]
  },
  {
   "cell_type": "code",
   "execution_count": 30,
   "metadata": {
    "collapsed": true
   },
   "outputs": [],
   "source": [
    "df = pd.read_csv('../../data/processed/facilities-after-state-updates.csv')"
   ]
  },
  {
   "cell_type": "markdown",
   "metadata": {},
   "source": [
    "<h3>How many facilities have accurate records online?</h3>"
   ]
  },
  {
   "cell_type": "markdown",
   "metadata": {},
   "source": [
    "Those that have no offline records."
   ]
  },
  {
   "cell_type": "code",
   "execution_count": 78,
   "metadata": {
    "collapsed": false
   },
   "outputs": [
    {
     "data": {
      "text/plain": [
       "57"
      ]
     },
     "execution_count": 78,
     "metadata": {},
     "output_type": "execute_result"
    }
   ],
   "source": [
    "df[(df['offline'].isnull())].count()[0]"
   ]
  },
  {
   "cell_type": "markdown",
   "metadata": {},
   "source": [
    "<h3>How many facilities have inaccurate records online?<h/3>"
   ]
  },
  {
   "cell_type": "markdown",
   "metadata": {},
   "source": [
    "Those that have offline records."
   ]
  },
  {
   "cell_type": "code",
   "execution_count": 32,
   "metadata": {
    "collapsed": false
   },
   "outputs": [
    {
     "data": {
      "text/plain": [
       "585"
      ]
     },
     "execution_count": 32,
     "metadata": {},
     "output_type": "execute_result"
    }
   ],
   "source": [
    "df[(df['offline'].notnull())].count()[0]"
   ]
  },
  {
   "cell_type": "markdown",
   "metadata": {},
   "source": [
    "<h3>How many facilities had more than double the number of complaints shown online?</h3>"
   ]
  },
  {
   "cell_type": "code",
   "execution_count": 33,
   "metadata": {
    "collapsed": false
   },
   "outputs": [
    {
     "data": {
      "text/plain": [
       "357"
      ]
     },
     "execution_count": 33,
     "metadata": {},
     "output_type": "execute_result"
    }
   ],
   "source": [
    "df[(df['offline']>df['online']) & (df['online'].notnull())].count()[0]"
   ]
  },
  {
   "cell_type": "markdown",
   "metadata": {},
   "source": [
    "<h3>How many facilities show zero complaints online but have complaints offline?</h3>"
   ]
  },
  {
   "cell_type": "code",
   "execution_count": 34,
   "metadata": {
    "collapsed": false
   },
   "outputs": [
    {
     "data": {
      "text/plain": [
       "58"
      ]
     },
     "execution_count": 34,
     "metadata": {},
     "output_type": "execute_result"
    }
   ],
   "source": [
    "df[(df['online'].isnull()) & (df['offline'].notnull())].count()[0]"
   ]
  },
  {
   "cell_type": "markdown",
   "metadata": {},
   "source": [
    "<h3>How many facilities have complaints and are accurate online?</h3>"
   ]
  },
  {
   "cell_type": "code",
   "execution_count": 35,
   "metadata": {
    "collapsed": false
   },
   "outputs": [
    {
     "data": {
      "text/plain": [
       "14"
      ]
     },
     "execution_count": 35,
     "metadata": {},
     "output_type": "execute_result"
    }
   ],
   "source": [
    "df[(df['online'].notnull()) & (df['offline'].isnull())].count()[0]"
   ]
  },
  {
   "cell_type": "markdown",
   "metadata": {},
   "source": [
    "<h3>How many facilities have complaints?</h3>"
   ]
  },
  {
   "cell_type": "code",
   "execution_count": 36,
   "metadata": {
    "collapsed": false
   },
   "outputs": [
    {
     "data": {
      "text/plain": [
       "599"
      ]
     },
     "execution_count": 36,
     "metadata": {},
     "output_type": "execute_result"
    }
   ],
   "source": [
    "df[(df['online'].notnull()) | df['offline'].notnull()].count()[0]"
   ]
  },
  {
   "cell_type": "markdown",
   "metadata": {},
   "source": [
    "<h3>What percent of facilities have accurate records online?</h3>"
   ]
  },
  {
   "cell_type": "code",
   "execution_count": 37,
   "metadata": {
    "collapsed": false
   },
   "outputs": [
    {
     "data": {
      "text/plain": [
       "8.8785046728971952"
      ]
     },
     "execution_count": 37,
     "metadata": {},
     "output_type": "execute_result"
    }
   ],
   "source": [
    "df[(df['offline'].isnull())].count()[0]/df.count()[0]*100"
   ]
  },
  {
   "cell_type": "markdown",
   "metadata": {},
   "source": [
    "<h3>What is the total capacity of all facilities with inaccurate records?</h3>"
   ]
  },
  {
   "cell_type": "code",
   "execution_count": 38,
   "metadata": {
    "collapsed": false
   },
   "outputs": [
    {
     "data": {
      "text/plain": [
       "35238.0"
      ]
     },
     "execution_count": 38,
     "metadata": {},
     "output_type": "execute_result"
    }
   ],
   "source": [
    "df[df['offline'].notnull()].sum()['fac_capacity']"
   ]
  },
  {
   "cell_type": "code",
   "execution_count": 39,
   "metadata": {
    "collapsed": false,
    "scrolled": true
   },
   "outputs": [
    {
     "data": {
      "text/html": [
       "<div>\n",
       "<table border=\"1\" class=\"dataframe\">\n",
       "  <thead>\n",
       "    <tr style=\"text-align: right;\">\n",
       "      <th></th>\n",
       "      <th>facility_id</th>\n",
       "      <th>fac_ccmunumber</th>\n",
       "      <th>facility_type</th>\n",
       "      <th>fac_capacity</th>\n",
       "      <th>facility_name</th>\n",
       "      <th>offline</th>\n",
       "      <th>online</th>\n",
       "    </tr>\n",
       "  </thead>\n",
       "  <tbody>\n",
       "  </tbody>\n",
       "</table>\n",
       "</div>"
      ],
      "text/plain": [
       "Empty DataFrame\n",
       "Columns: [facility_id, fac_ccmunumber, facility_type, fac_capacity, facility_name, offline, online]\n",
       "Index: []"
      ]
     },
     "execution_count": 39,
     "metadata": {},
     "output_type": "execute_result"
    }
   ],
   "source": [
    "df[df['fac_capacity'].isnull()]"
   ]
  },
  {
   "cell_type": "code",
   "execution_count": 40,
   "metadata": {
    "collapsed": false
   },
   "outputs": [],
   "source": [
    "#df#['fac_capacity'].sum()"
   ]
  },
  {
   "cell_type": "code",
   "execution_count": 41,
   "metadata": {
    "collapsed": false
   },
   "outputs": [
    {
     "data": {
      "text/html": [
       "<div>\n",
       "<table border=\"1\" class=\"dataframe\">\n",
       "  <thead>\n",
       "    <tr style=\"text-align: right;\">\n",
       "      <th></th>\n",
       "      <th>facility_id</th>\n",
       "      <th>fac_ccmunumber</th>\n",
       "      <th>facility_type</th>\n",
       "      <th>fac_capacity</th>\n",
       "      <th>facility_name</th>\n",
       "      <th>offline</th>\n",
       "      <th>online</th>\n",
       "    </tr>\n",
       "  </thead>\n",
       "  <tbody>\n",
       "  </tbody>\n",
       "</table>\n",
       "</div>"
      ],
      "text/plain": [
       "Empty DataFrame\n",
       "Columns: [facility_id, fac_ccmunumber, facility_type, fac_capacity, facility_name, offline, online]\n",
       "Index: []"
      ]
     },
     "execution_count": 41,
     "metadata": {},
     "output_type": "execute_result"
    }
   ],
   "source": [
    "df[df['online']<1]"
   ]
  },
  {
   "cell_type": "code",
   "execution_count": 42,
   "metadata": {
    "collapsed": false
   },
   "outputs": [
    {
     "data": {
      "text/html": [
       "<div>\n",
       "<table border=\"1\" class=\"dataframe\">\n",
       "  <thead>\n",
       "    <tr style=\"text-align: right;\">\n",
       "      <th></th>\n",
       "      <th>facility_id</th>\n",
       "      <th>fac_ccmunumber</th>\n",
       "      <th>facility_type</th>\n",
       "      <th>fac_capacity</th>\n",
       "      <th>facility_name</th>\n",
       "      <th>offline</th>\n",
       "      <th>online</th>\n",
       "    </tr>\n",
       "  </thead>\n",
       "  <tbody>\n",
       "    <tr>\n",
       "      <th>56</th>\n",
       "      <td>385181</td>\n",
       "      <td>385181</td>\n",
       "      <td>NF</td>\n",
       "      <td>20.0</td>\n",
       "      <td>East Cascade Retirement Community, LLC</td>\n",
       "      <td>10.0</td>\n",
       "      <td>NaN</td>\n",
       "    </tr>\n",
       "    <tr>\n",
       "      <th>91</th>\n",
       "      <td>385237</td>\n",
       "      <td>385237</td>\n",
       "      <td>NF</td>\n",
       "      <td>63.0</td>\n",
       "      <td>Fernhill Estates</td>\n",
       "      <td>7.0</td>\n",
       "      <td>NaN</td>\n",
       "    </tr>\n",
       "    <tr>\n",
       "      <th>117</th>\n",
       "      <td>385275</td>\n",
       "      <td>385275</td>\n",
       "      <td>NF</td>\n",
       "      <td>51.0</td>\n",
       "      <td>Sheridan Care Center</td>\n",
       "      <td>32.0</td>\n",
       "      <td>NaN</td>\n",
       "    </tr>\n",
       "    <tr>\n",
       "      <th>130</th>\n",
       "      <td>38E196</td>\n",
       "      <td>38E196</td>\n",
       "      <td>NF</td>\n",
       "      <td>41.0</td>\n",
       "      <td>Lawrence Convalescent Center</td>\n",
       "      <td>3.0</td>\n",
       "      <td>NaN</td>\n",
       "    </tr>\n",
       "    <tr>\n",
       "      <th>131</th>\n",
       "      <td>38L300</td>\n",
       "      <td>38L300</td>\n",
       "      <td>NF</td>\n",
       "      <td>54.0</td>\n",
       "      <td>Marquis Tualatin Post Acute Rehab</td>\n",
       "      <td>NaN</td>\n",
       "      <td>NaN</td>\n",
       "    </tr>\n",
       "    <tr>\n",
       "      <th>134</th>\n",
       "      <td>38L503</td>\n",
       "      <td>38L503</td>\n",
       "      <td>NF</td>\n",
       "      <td>154.0</td>\n",
       "      <td>Lebanon Veterans Home</td>\n",
       "      <td>4.0</td>\n",
       "      <td>NaN</td>\n",
       "    </tr>\n",
       "    <tr>\n",
       "      <th>145</th>\n",
       "      <td>50M006</td>\n",
       "      <td>50M006</td>\n",
       "      <td>RCF</td>\n",
       "      <td>10.0</td>\n",
       "      <td>Autumn Garden Home RCF, Inc.</td>\n",
       "      <td>1.0</td>\n",
       "      <td>NaN</td>\n",
       "    </tr>\n",
       "    <tr>\n",
       "      <th>148</th>\n",
       "      <td>50M021</td>\n",
       "      <td>50M021</td>\n",
       "      <td>RCF</td>\n",
       "      <td>16.0</td>\n",
       "      <td>Comfort Care</td>\n",
       "      <td>NaN</td>\n",
       "      <td>NaN</td>\n",
       "    </tr>\n",
       "    <tr>\n",
       "      <th>149</th>\n",
       "      <td>50M025</td>\n",
       "      <td>50M025</td>\n",
       "      <td>RCF</td>\n",
       "      <td>15.0</td>\n",
       "      <td>Elderly Care Home</td>\n",
       "      <td>NaN</td>\n",
       "      <td>NaN</td>\n",
       "    </tr>\n",
       "    <tr>\n",
       "      <th>154</th>\n",
       "      <td>50M049</td>\n",
       "      <td>50M049</td>\n",
       "      <td>RCF</td>\n",
       "      <td>62.0</td>\n",
       "      <td>Harmony Guest Home</td>\n",
       "      <td>1.0</td>\n",
       "      <td>NaN</td>\n",
       "    </tr>\n",
       "    <tr>\n",
       "      <th>161</th>\n",
       "      <td>50M088</td>\n",
       "      <td>50M088</td>\n",
       "      <td>RCF</td>\n",
       "      <td>20.0</td>\n",
       "      <td>Myrtle Point Care Center RCF</td>\n",
       "      <td>1.0</td>\n",
       "      <td>NaN</td>\n",
       "    </tr>\n",
       "    <tr>\n",
       "      <th>166</th>\n",
       "      <td>50M109</td>\n",
       "      <td>50M109</td>\n",
       "      <td>RCF</td>\n",
       "      <td>30.0</td>\n",
       "      <td>Tabor Crest Residential Care</td>\n",
       "      <td>NaN</td>\n",
       "      <td>NaN</td>\n",
       "    </tr>\n",
       "    <tr>\n",
       "      <th>170</th>\n",
       "      <td>50M133</td>\n",
       "      <td>50M133</td>\n",
       "      <td>RCF</td>\n",
       "      <td>74.0</td>\n",
       "      <td>Oak Lane Retirement</td>\n",
       "      <td>1.0</td>\n",
       "      <td>NaN</td>\n",
       "    </tr>\n",
       "    <tr>\n",
       "      <th>182</th>\n",
       "      <td>50M211</td>\n",
       "      <td>50M211</td>\n",
       "      <td>RCF</td>\n",
       "      <td>28.0</td>\n",
       "      <td>Hill House</td>\n",
       "      <td>NaN</td>\n",
       "      <td>NaN</td>\n",
       "    </tr>\n",
       "    <tr>\n",
       "      <th>193</th>\n",
       "      <td>50M300</td>\n",
       "      <td>50M300</td>\n",
       "      <td>RCF</td>\n",
       "      <td>44.0</td>\n",
       "      <td>Quail Park Memory Care Residences of Klamath F...</td>\n",
       "      <td>9.0</td>\n",
       "      <td>NaN</td>\n",
       "    </tr>\n",
       "    <tr>\n",
       "      <th>194</th>\n",
       "      <td>50M422</td>\n",
       "      <td>50M422</td>\n",
       "      <td>RCF</td>\n",
       "      <td>16.0</td>\n",
       "      <td>Juniper House Memory Care</td>\n",
       "      <td>NaN</td>\n",
       "      <td>NaN</td>\n",
       "    </tr>\n",
       "    <tr>\n",
       "      <th>195</th>\n",
       "      <td>50M423</td>\n",
       "      <td>50M423</td>\n",
       "      <td>RCF</td>\n",
       "      <td>45.0</td>\n",
       "      <td>Marjorie House Memory Care Community</td>\n",
       "      <td>NaN</td>\n",
       "      <td>NaN</td>\n",
       "    </tr>\n",
       "    <tr>\n",
       "      <th>196</th>\n",
       "      <td>50M424</td>\n",
       "      <td>50M424</td>\n",
       "      <td>RCF</td>\n",
       "      <td>30.0</td>\n",
       "      <td>Kinsington at Redwood Park</td>\n",
       "      <td>NaN</td>\n",
       "      <td>NaN</td>\n",
       "    </tr>\n",
       "    <tr>\n",
       "      <th>197</th>\n",
       "      <td>50M425</td>\n",
       "      <td>50M425</td>\n",
       "      <td>RCF</td>\n",
       "      <td>28.0</td>\n",
       "      <td>Maple Valley Dementia Care</td>\n",
       "      <td>NaN</td>\n",
       "      <td>NaN</td>\n",
       "    </tr>\n",
       "    <tr>\n",
       "      <th>198</th>\n",
       "      <td>50M426</td>\n",
       "      <td>50M426</td>\n",
       "      <td>RCF</td>\n",
       "      <td>35.0</td>\n",
       "      <td>Countryside Living of Redmond</td>\n",
       "      <td>NaN</td>\n",
       "      <td>NaN</td>\n",
       "    </tr>\n",
       "    <tr>\n",
       "      <th>199</th>\n",
       "      <td>50M427</td>\n",
       "      <td>50M427</td>\n",
       "      <td>RCF</td>\n",
       "      <td>23.0</td>\n",
       "      <td>Village at Keizer Ridge Memory Care, The</td>\n",
       "      <td>NaN</td>\n",
       "      <td>NaN</td>\n",
       "    </tr>\n",
       "    <tr>\n",
       "      <th>201</th>\n",
       "      <td>50R014</td>\n",
       "      <td>50R014</td>\n",
       "      <td>RCF</td>\n",
       "      <td>49.0</td>\n",
       "      <td>Cherry Blossom Cottage</td>\n",
       "      <td>1.0</td>\n",
       "      <td>NaN</td>\n",
       "    </tr>\n",
       "    <tr>\n",
       "      <th>206</th>\n",
       "      <td>50R062</td>\n",
       "      <td>50R062</td>\n",
       "      <td>RCF</td>\n",
       "      <td>7.0</td>\n",
       "      <td>Hubbard Residential Care Facility</td>\n",
       "      <td>NaN</td>\n",
       "      <td>NaN</td>\n",
       "    </tr>\n",
       "    <tr>\n",
       "      <th>212</th>\n",
       "      <td>50R115</td>\n",
       "      <td>50R115</td>\n",
       "      <td>RCF</td>\n",
       "      <td>48.0</td>\n",
       "      <td>Turner Retirement Homes</td>\n",
       "      <td>NaN</td>\n",
       "      <td>NaN</td>\n",
       "    </tr>\n",
       "    <tr>\n",
       "      <th>229</th>\n",
       "      <td>50R145</td>\n",
       "      <td>50R145</td>\n",
       "      <td>RCF</td>\n",
       "      <td>17.0</td>\n",
       "      <td>Horton Plaza</td>\n",
       "      <td>1.0</td>\n",
       "      <td>NaN</td>\n",
       "    </tr>\n",
       "    <tr>\n",
       "      <th>231</th>\n",
       "      <td>50R200</td>\n",
       "      <td>50R200</td>\n",
       "      <td>RCF</td>\n",
       "      <td>22.0</td>\n",
       "      <td>Willamette Lutheran Retirement Community</td>\n",
       "      <td>3.0</td>\n",
       "      <td>NaN</td>\n",
       "    </tr>\n",
       "    <tr>\n",
       "      <th>234</th>\n",
       "      <td>50R229</td>\n",
       "      <td>50R229</td>\n",
       "      <td>RCF</td>\n",
       "      <td>96.0</td>\n",
       "      <td>Willamette View Terrace</td>\n",
       "      <td>3.0</td>\n",
       "      <td>NaN</td>\n",
       "    </tr>\n",
       "    <tr>\n",
       "      <th>235</th>\n",
       "      <td>50R230</td>\n",
       "      <td>50R230</td>\n",
       "      <td>RCF</td>\n",
       "      <td>44.0</td>\n",
       "      <td>Holladay Park Plaza</td>\n",
       "      <td>NaN</td>\n",
       "      <td>NaN</td>\n",
       "    </tr>\n",
       "    <tr>\n",
       "      <th>240</th>\n",
       "      <td>50R271</td>\n",
       "      <td>50R271</td>\n",
       "      <td>RCF</td>\n",
       "      <td>21.0</td>\n",
       "      <td>Willamette View Memory Care Community</td>\n",
       "      <td>1.0</td>\n",
       "      <td>NaN</td>\n",
       "    </tr>\n",
       "    <tr>\n",
       "      <th>241</th>\n",
       "      <td>50R273</td>\n",
       "      <td>50R273</td>\n",
       "      <td>RCF</td>\n",
       "      <td>27.0</td>\n",
       "      <td>Suttle Care &amp; Retirement</td>\n",
       "      <td>NaN</td>\n",
       "      <td>NaN</td>\n",
       "    </tr>\n",
       "    <tr>\n",
       "      <th>...</th>\n",
       "      <td>...</td>\n",
       "      <td>...</td>\n",
       "      <td>...</td>\n",
       "      <td>...</td>\n",
       "      <td>...</td>\n",
       "      <td>...</td>\n",
       "      <td>...</td>\n",
       "    </tr>\n",
       "    <tr>\n",
       "      <th>368</th>\n",
       "      <td>50R418</td>\n",
       "      <td>50R418</td>\n",
       "      <td>RCF</td>\n",
       "      <td>64.0</td>\n",
       "      <td>Windsong at Eola Hills</td>\n",
       "      <td>NaN</td>\n",
       "      <td>NaN</td>\n",
       "    </tr>\n",
       "    <tr>\n",
       "      <th>369</th>\n",
       "      <td>50R421</td>\n",
       "      <td>50R421</td>\n",
       "      <td>RCF</td>\n",
       "      <td>32.0</td>\n",
       "      <td>Clatsop Care Memory Community</td>\n",
       "      <td>NaN</td>\n",
       "      <td>NaN</td>\n",
       "    </tr>\n",
       "    <tr>\n",
       "      <th>370</th>\n",
       "      <td>50R430</td>\n",
       "      <td>50R430</td>\n",
       "      <td>RCF</td>\n",
       "      <td>23.0</td>\n",
       "      <td>Bonaventure of Albany Memory Care</td>\n",
       "      <td>NaN</td>\n",
       "      <td>NaN</td>\n",
       "    </tr>\n",
       "    <tr>\n",
       "      <th>371</th>\n",
       "      <td>50R432</td>\n",
       "      <td>50R432</td>\n",
       "      <td>RCF</td>\n",
       "      <td>23.0</td>\n",
       "      <td>Bonaventure of Tigard Memory Care</td>\n",
       "      <td>NaN</td>\n",
       "      <td>NaN</td>\n",
       "    </tr>\n",
       "    <tr>\n",
       "      <th>372</th>\n",
       "      <td>50R433</td>\n",
       "      <td>50R433</td>\n",
       "      <td>RCF</td>\n",
       "      <td>68.0</td>\n",
       "      <td>Waterhouse Ridge Memory Care Community</td>\n",
       "      <td>NaN</td>\n",
       "      <td>NaN</td>\n",
       "    </tr>\n",
       "    <tr>\n",
       "      <th>378</th>\n",
       "      <td>5MA043</td>\n",
       "      <td>5MA043</td>\n",
       "      <td>RCF</td>\n",
       "      <td>102.0</td>\n",
       "      <td>Providence ElderPlace in Glendoveer</td>\n",
       "      <td>3.0</td>\n",
       "      <td>NaN</td>\n",
       "    </tr>\n",
       "    <tr>\n",
       "      <th>422</th>\n",
       "      <td>70A012</td>\n",
       "      <td>70A012</td>\n",
       "      <td>ALF</td>\n",
       "      <td>21.0</td>\n",
       "      <td>Springs at Carman Oaks, The</td>\n",
       "      <td>2.0</td>\n",
       "      <td>NaN</td>\n",
       "    </tr>\n",
       "    <tr>\n",
       "      <th>423</th>\n",
       "      <td>70A057</td>\n",
       "      <td>70A057</td>\n",
       "      <td>ALF</td>\n",
       "      <td>63.0</td>\n",
       "      <td>Markham House Retirement Community</td>\n",
       "      <td>NaN</td>\n",
       "      <td>NaN</td>\n",
       "    </tr>\n",
       "    <tr>\n",
       "      <th>427</th>\n",
       "      <td>70A097</td>\n",
       "      <td>70A097</td>\n",
       "      <td>ALF</td>\n",
       "      <td>70.0</td>\n",
       "      <td>Timberhill Place</td>\n",
       "      <td>NaN</td>\n",
       "      <td>NaN</td>\n",
       "    </tr>\n",
       "    <tr>\n",
       "      <th>432</th>\n",
       "      <td>70A235</td>\n",
       "      <td>70A235</td>\n",
       "      <td>ALF</td>\n",
       "      <td>60.0</td>\n",
       "      <td>Bonaventure of Albany Assisted Living</td>\n",
       "      <td>NaN</td>\n",
       "      <td>NaN</td>\n",
       "    </tr>\n",
       "    <tr>\n",
       "      <th>434</th>\n",
       "      <td>70A249</td>\n",
       "      <td>70A249</td>\n",
       "      <td>ALF</td>\n",
       "      <td>20.0</td>\n",
       "      <td>Providence Brookside Manor</td>\n",
       "      <td>NaN</td>\n",
       "      <td>NaN</td>\n",
       "    </tr>\n",
       "    <tr>\n",
       "      <th>472</th>\n",
       "      <td>70A298</td>\n",
       "      <td>70A298</td>\n",
       "      <td>ALF</td>\n",
       "      <td>60.0</td>\n",
       "      <td>Pioneer Village</td>\n",
       "      <td>2.0</td>\n",
       "      <td>NaN</td>\n",
       "    </tr>\n",
       "    <tr>\n",
       "      <th>474</th>\n",
       "      <td>70A300</td>\n",
       "      <td>70A300</td>\n",
       "      <td>ALF</td>\n",
       "      <td>44.0</td>\n",
       "      <td>Springs at Veranda Park, The</td>\n",
       "      <td>NaN</td>\n",
       "      <td>NaN</td>\n",
       "    </tr>\n",
       "    <tr>\n",
       "      <th>475</th>\n",
       "      <td>70A301</td>\n",
       "      <td>70A301</td>\n",
       "      <td>ALF</td>\n",
       "      <td>69.0</td>\n",
       "      <td>Bonaventure of Tigard Assisted Living</td>\n",
       "      <td>NaN</td>\n",
       "      <td>NaN</td>\n",
       "    </tr>\n",
       "    <tr>\n",
       "      <th>483</th>\n",
       "      <td>70A309</td>\n",
       "      <td>70A309</td>\n",
       "      <td>ALF</td>\n",
       "      <td>65.0</td>\n",
       "      <td>Hawthorne Gardens Senior Living Community</td>\n",
       "      <td>12.0</td>\n",
       "      <td>NaN</td>\n",
       "    </tr>\n",
       "    <tr>\n",
       "      <th>484</th>\n",
       "      <td>70A310</td>\n",
       "      <td>70A310</td>\n",
       "      <td>ALF</td>\n",
       "      <td>16.0</td>\n",
       "      <td>Stafford Assisted Living Facility, The</td>\n",
       "      <td>1.0</td>\n",
       "      <td>NaN</td>\n",
       "    </tr>\n",
       "    <tr>\n",
       "      <th>490</th>\n",
       "      <td>70A317</td>\n",
       "      <td>70A317</td>\n",
       "      <td>ALF</td>\n",
       "      <td>24.0</td>\n",
       "      <td>Mirabella at South Waterfront</td>\n",
       "      <td>NaN</td>\n",
       "      <td>NaN</td>\n",
       "    </tr>\n",
       "    <tr>\n",
       "      <th>491</th>\n",
       "      <td>70A318</td>\n",
       "      <td>70A318</td>\n",
       "      <td>ALF</td>\n",
       "      <td>22.0</td>\n",
       "      <td>Countryside Village</td>\n",
       "      <td>NaN</td>\n",
       "      <td>NaN</td>\n",
       "    </tr>\n",
       "    <tr>\n",
       "      <th>492</th>\n",
       "      <td>70A319</td>\n",
       "      <td>70A319</td>\n",
       "      <td>ALF</td>\n",
       "      <td>64.0</td>\n",
       "      <td>Royalton Place Assisted Living</td>\n",
       "      <td>4.0</td>\n",
       "      <td>NaN</td>\n",
       "    </tr>\n",
       "    <tr>\n",
       "      <th>493</th>\n",
       "      <td>70A320</td>\n",
       "      <td>70A320</td>\n",
       "      <td>ALF</td>\n",
       "      <td>65.0</td>\n",
       "      <td>Bonaventure of Salem Assisted Living</td>\n",
       "      <td>12.0</td>\n",
       "      <td>NaN</td>\n",
       "    </tr>\n",
       "    <tr>\n",
       "      <th>494</th>\n",
       "      <td>70A321</td>\n",
       "      <td>70A321</td>\n",
       "      <td>ALF</td>\n",
       "      <td>25.0</td>\n",
       "      <td>Dallas Retirement Village Assisted Living HUD</td>\n",
       "      <td>4.0</td>\n",
       "      <td>NaN</td>\n",
       "    </tr>\n",
       "    <tr>\n",
       "      <th>495</th>\n",
       "      <td>70A322</td>\n",
       "      <td>70A322</td>\n",
       "      <td>ALF</td>\n",
       "      <td>19.0</td>\n",
       "      <td>Wallowa Valley Senior Living</td>\n",
       "      <td>11.0</td>\n",
       "      <td>NaN</td>\n",
       "    </tr>\n",
       "    <tr>\n",
       "      <th>496</th>\n",
       "      <td>70A323</td>\n",
       "      <td>70A323</td>\n",
       "      <td>ALF</td>\n",
       "      <td>101.0</td>\n",
       "      <td>Waterford Grand Assisted Living</td>\n",
       "      <td>3.0</td>\n",
       "      <td>NaN</td>\n",
       "    </tr>\n",
       "    <tr>\n",
       "      <th>497</th>\n",
       "      <td>70A324</td>\n",
       "      <td>70A324</td>\n",
       "      <td>ALF</td>\n",
       "      <td>87.0</td>\n",
       "      <td>Marquis Tualatin Assisted Living</td>\n",
       "      <td>1.0</td>\n",
       "      <td>NaN</td>\n",
       "    </tr>\n",
       "    <tr>\n",
       "      <th>507</th>\n",
       "      <td>70M010</td>\n",
       "      <td>70M010</td>\n",
       "      <td>ALF</td>\n",
       "      <td>45.0</td>\n",
       "      <td>Brookside Place</td>\n",
       "      <td>10.0</td>\n",
       "      <td>NaN</td>\n",
       "    </tr>\n",
       "    <tr>\n",
       "      <th>524</th>\n",
       "      <td>70M029</td>\n",
       "      <td>70M029</td>\n",
       "      <td>ALF</td>\n",
       "      <td>48.0</td>\n",
       "      <td>Forest Grove Beehive</td>\n",
       "      <td>2.0</td>\n",
       "      <td>NaN</td>\n",
       "    </tr>\n",
       "    <tr>\n",
       "      <th>538</th>\n",
       "      <td>70M043</td>\n",
       "      <td>70M043</td>\n",
       "      <td>ALF</td>\n",
       "      <td>30.0</td>\n",
       "      <td>Willow Place</td>\n",
       "      <td>1.0</td>\n",
       "      <td>NaN</td>\n",
       "    </tr>\n",
       "    <tr>\n",
       "      <th>549</th>\n",
       "      <td>70M056</td>\n",
       "      <td>70M056</td>\n",
       "      <td>ALF</td>\n",
       "      <td>56.0</td>\n",
       "      <td>Magnolia Gardens Assisted Retirement Living</td>\n",
       "      <td>1.0</td>\n",
       "      <td>NaN</td>\n",
       "    </tr>\n",
       "    <tr>\n",
       "      <th>588</th>\n",
       "      <td>70M103</td>\n",
       "      <td>70M103</td>\n",
       "      <td>ALF</td>\n",
       "      <td>60.0</td>\n",
       "      <td>Wiley Creek Community</td>\n",
       "      <td>3.0</td>\n",
       "      <td>NaN</td>\n",
       "    </tr>\n",
       "    <tr>\n",
       "      <th>640</th>\n",
       "      <td>70M350</td>\n",
       "      <td>70M350</td>\n",
       "      <td>ALF</td>\n",
       "      <td>119.0</td>\n",
       "      <td>Village at Keizer Ridge, The</td>\n",
       "      <td>NaN</td>\n",
       "      <td>NaN</td>\n",
       "    </tr>\n",
       "  </tbody>\n",
       "</table>\n",
       "<p>101 rows × 7 columns</p>\n",
       "</div>"
      ],
      "text/plain": [
       "    facility_id fac_ccmunumber facility_type  fac_capacity  \\\n",
       "56       385181         385181            NF          20.0   \n",
       "91       385237         385237            NF          63.0   \n",
       "117      385275         385275            NF          51.0   \n",
       "130      38E196         38E196            NF          41.0   \n",
       "131      38L300         38L300            NF          54.0   \n",
       "134      38L503         38L503            NF         154.0   \n",
       "145      50M006         50M006           RCF          10.0   \n",
       "148      50M021         50M021           RCF          16.0   \n",
       "149      50M025         50M025           RCF          15.0   \n",
       "154      50M049         50M049           RCF          62.0   \n",
       "161      50M088         50M088           RCF          20.0   \n",
       "166      50M109         50M109           RCF          30.0   \n",
       "170      50M133         50M133           RCF          74.0   \n",
       "182      50M211         50M211           RCF          28.0   \n",
       "193      50M300         50M300           RCF          44.0   \n",
       "194      50M422         50M422           RCF          16.0   \n",
       "195      50M423         50M423           RCF          45.0   \n",
       "196      50M424         50M424           RCF          30.0   \n",
       "197      50M425         50M425           RCF          28.0   \n",
       "198      50M426         50M426           RCF          35.0   \n",
       "199      50M427         50M427           RCF          23.0   \n",
       "201      50R014         50R014           RCF          49.0   \n",
       "206      50R062         50R062           RCF           7.0   \n",
       "212      50R115         50R115           RCF          48.0   \n",
       "229      50R145         50R145           RCF          17.0   \n",
       "231      50R200         50R200           RCF          22.0   \n",
       "234      50R229         50R229           RCF          96.0   \n",
       "235      50R230         50R230           RCF          44.0   \n",
       "240      50R271         50R271           RCF          21.0   \n",
       "241      50R273         50R273           RCF          27.0   \n",
       "..          ...            ...           ...           ...   \n",
       "368      50R418         50R418           RCF          64.0   \n",
       "369      50R421         50R421           RCF          32.0   \n",
       "370      50R430         50R430           RCF          23.0   \n",
       "371      50R432         50R432           RCF          23.0   \n",
       "372      50R433         50R433           RCF          68.0   \n",
       "378      5MA043         5MA043           RCF         102.0   \n",
       "422      70A012         70A012           ALF          21.0   \n",
       "423      70A057         70A057           ALF          63.0   \n",
       "427      70A097         70A097           ALF          70.0   \n",
       "432      70A235         70A235           ALF          60.0   \n",
       "434      70A249         70A249           ALF          20.0   \n",
       "472      70A298         70A298           ALF          60.0   \n",
       "474      70A300         70A300           ALF          44.0   \n",
       "475      70A301         70A301           ALF          69.0   \n",
       "483      70A309         70A309           ALF          65.0   \n",
       "484      70A310         70A310           ALF          16.0   \n",
       "490      70A317         70A317           ALF          24.0   \n",
       "491      70A318         70A318           ALF          22.0   \n",
       "492      70A319         70A319           ALF          64.0   \n",
       "493      70A320         70A320           ALF          65.0   \n",
       "494      70A321         70A321           ALF          25.0   \n",
       "495      70A322         70A322           ALF          19.0   \n",
       "496      70A323         70A323           ALF         101.0   \n",
       "497      70A324         70A324           ALF          87.0   \n",
       "507      70M010         70M010           ALF          45.0   \n",
       "524      70M029         70M029           ALF          48.0   \n",
       "538      70M043         70M043           ALF          30.0   \n",
       "549      70M056         70M056           ALF          56.0   \n",
       "588      70M103         70M103           ALF          60.0   \n",
       "640      70M350         70M350           ALF         119.0   \n",
       "\n",
       "                                         facility_name  offline  online  \n",
       "56              East Cascade Retirement Community, LLC     10.0     NaN  \n",
       "91                                    Fernhill Estates      7.0     NaN  \n",
       "117                               Sheridan Care Center     32.0     NaN  \n",
       "130                       Lawrence Convalescent Center      3.0     NaN  \n",
       "131                  Marquis Tualatin Post Acute Rehab      NaN     NaN  \n",
       "134                              Lebanon Veterans Home      4.0     NaN  \n",
       "145                       Autumn Garden Home RCF, Inc.      1.0     NaN  \n",
       "148                                       Comfort Care      NaN     NaN  \n",
       "149                                  Elderly Care Home      NaN     NaN  \n",
       "154                                 Harmony Guest Home      1.0     NaN  \n",
       "161                       Myrtle Point Care Center RCF      1.0     NaN  \n",
       "166                       Tabor Crest Residential Care      NaN     NaN  \n",
       "170                                Oak Lane Retirement      1.0     NaN  \n",
       "182                                         Hill House      NaN     NaN  \n",
       "193  Quail Park Memory Care Residences of Klamath F...      9.0     NaN  \n",
       "194                          Juniper House Memory Care      NaN     NaN  \n",
       "195               Marjorie House Memory Care Community      NaN     NaN  \n",
       "196                         Kinsington at Redwood Park      NaN     NaN  \n",
       "197                         Maple Valley Dementia Care      NaN     NaN  \n",
       "198                      Countryside Living of Redmond      NaN     NaN  \n",
       "199           Village at Keizer Ridge Memory Care, The      NaN     NaN  \n",
       "201                             Cherry Blossom Cottage      1.0     NaN  \n",
       "206                  Hubbard Residential Care Facility      NaN     NaN  \n",
       "212                            Turner Retirement Homes      NaN     NaN  \n",
       "229                                       Horton Plaza      1.0     NaN  \n",
       "231           Willamette Lutheran Retirement Community      3.0     NaN  \n",
       "234                            Willamette View Terrace      3.0     NaN  \n",
       "235                                Holladay Park Plaza      NaN     NaN  \n",
       "240              Willamette View Memory Care Community      1.0     NaN  \n",
       "241                           Suttle Care & Retirement      NaN     NaN  \n",
       "..                                                 ...      ...     ...  \n",
       "368                             Windsong at Eola Hills      NaN     NaN  \n",
       "369                      Clatsop Care Memory Community      NaN     NaN  \n",
       "370                  Bonaventure of Albany Memory Care      NaN     NaN  \n",
       "371                  Bonaventure of Tigard Memory Care      NaN     NaN  \n",
       "372             Waterhouse Ridge Memory Care Community      NaN     NaN  \n",
       "378                Providence ElderPlace in Glendoveer      3.0     NaN  \n",
       "422                        Springs at Carman Oaks, The      2.0     NaN  \n",
       "423                 Markham House Retirement Community      NaN     NaN  \n",
       "427                                   Timberhill Place      NaN     NaN  \n",
       "432              Bonaventure of Albany Assisted Living      NaN     NaN  \n",
       "434                         Providence Brookside Manor      NaN     NaN  \n",
       "472                                    Pioneer Village      2.0     NaN  \n",
       "474                       Springs at Veranda Park, The      NaN     NaN  \n",
       "475              Bonaventure of Tigard Assisted Living      NaN     NaN  \n",
       "483          Hawthorne Gardens Senior Living Community     12.0     NaN  \n",
       "484             Stafford Assisted Living Facility, The      1.0     NaN  \n",
       "490                      Mirabella at South Waterfront      NaN     NaN  \n",
       "491                                Countryside Village      NaN     NaN  \n",
       "492                     Royalton Place Assisted Living      4.0     NaN  \n",
       "493               Bonaventure of Salem Assisted Living     12.0     NaN  \n",
       "494      Dallas Retirement Village Assisted Living HUD      4.0     NaN  \n",
       "495                       Wallowa Valley Senior Living     11.0     NaN  \n",
       "496                    Waterford Grand Assisted Living      3.0     NaN  \n",
       "497                   Marquis Tualatin Assisted Living      1.0     NaN  \n",
       "507                                    Brookside Place     10.0     NaN  \n",
       "524                               Forest Grove Beehive      2.0     NaN  \n",
       "538                                       Willow Place      1.0     NaN  \n",
       "549        Magnolia Gardens Assisted Retirement Living      1.0     NaN  \n",
       "588                              Wiley Creek Community      3.0     NaN  \n",
       "640                       Village at Keizer Ridge, The      NaN     NaN  \n",
       "\n",
       "[101 rows x 7 columns]"
      ]
     },
     "execution_count": 42,
     "metadata": {},
     "output_type": "execute_result"
    }
   ],
   "source": [
    "df[df['online'].isnull()]"
   ]
  },
  {
   "cell_type": "code",
   "execution_count": null,
   "metadata": {
    "collapsed": true
   },
   "outputs": [],
   "source": []
  }
 ],
 "metadata": {
  "anaconda-cloud": {},
  "kernelspec": {
   "display_name": "Python [default]",
   "language": "python",
   "name": "python3"
  },
  "language_info": {
   "codemirror_mode": {
    "name": "ipython",
    "version": 3
   },
   "file_extension": ".py",
   "mimetype": "text/x-python",
   "name": "python",
   "nbconvert_exporter": "python",
   "pygments_lexer": "ipython3",
   "version": "3.5.2"
  }
 },
 "nbformat": 4,
 "nbformat_minor": 1
}
