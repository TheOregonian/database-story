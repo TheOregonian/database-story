{
 "cells": [
  {
   "cell_type": "code",
   "execution_count": 85,
   "metadata": {
    "collapsed": false,
    "scrolled": true
   },
   "outputs": [
    {
     "data": {
      "text/html": [
       "<style>.container { width:100% !important; }</style>"
      ],
      "text/plain": [
       "<IPython.core.display.HTML object>"
      ]
     },
     "metadata": {},
     "output_type": "display_data"
    }
   ],
   "source": [
    "import pandas as pd\n",
    "import numpy as np\n",
    "from IPython.core.display import display, HTML\n",
    "display(HTML(\"<style>.container { width:100% !important; }</style>\"))"
   ]
  },
  {
   "cell_type": "markdown",
   "metadata": {},
   "source": [
    "The Department of Human Services provided us with seven spreadsheets that each have information about substantiated complaints against assisted living, residential care, and nursing facilities in Oregon. The purpose of this notebook is to mung them, standardizing the column names, removing unnecessary columns, and cleaning some fields. The second purpose of this notebook is to get initial ownership date for facilities from the owner_history table and assign it to each facility."
   ]
  },
  {
   "cell_type": "markdown",
   "metadata": {},
   "source": [
    "<h1>Complaints mung</h1>"
   ]
  },
  {
   "cell_type": "markdown",
   "metadata": {},
   "source": [
    "<h3>Start with the 10-year data that does not have narratives.</h3>"
   ]
  },
  {
   "cell_type": "markdown",
   "metadata": {},
   "source": [
    "<h4>Import, clean, concat.</h4>"
   ]
  },
  {
   "cell_type": "code",
   "execution_count": 86,
   "metadata": {
    "collapsed": false
   },
   "outputs": [],
   "source": [
    "#Five years of detailed complaint data for all four kinds of facilities (Residential Care, Assisted Living, Nursing, and Adult Foster Home)\n",
    "detailed = pd.read_excel('/Users/fzarkhin/OneDrive - Advance Central Services, Inc/fproj/github/database-story/data/raw/Oregonian Abuse records 5 years May 2016.xlsx', header=3)\n",
    "#Ten years of non-detailed complaints for Nursing Facilities\n",
    "NF_complaints = pd.read_excel('/Users/fzarkhin/OneDrive - Advance Central Services, Inc/fproj/github/database-story/data/raw/Copy of Oregonian Data Request Facility Abuse Records April 2016   Reviewed.xlsx',sheetname='NF Complaints')\n",
    "#Ten years of non-detailed complaints for Assisted Living Facilities\n",
    "ALF_complaints = pd.read_excel('/Users/fzarkhin/OneDrive - Advance Central Services, Inc/fproj/github/database-story/data/raw/Copy of Oregonian Data Request Facility Abuse Records April 2016   Reviewed.xlsx',sheetname='ALF Complaints')\n",
    "#Ten years of non-detailed complaints for Residential Care Facilities\n",
    "RCF_complaints = pd.read_excel('/Users/fzarkhin/OneDrive - Advance Central Services, Inc/fproj/github/database-story/data/raw/Copy of Oregonian Data Request Facility Abuse Records April 2016   Reviewed.xlsx',sheetname='RCF Complaints')"
   ]
  },
  {
   "cell_type": "code",
   "execution_count": 87,
   "metadata": {
    "collapsed": true
   },
   "outputs": [],
   "source": [
    "#NF has an inconsistently named column\n",
    "NF_complaints.rename(columns={'Abuse_CbcAbuse': 'CbcAbuse'}, inplace=True)"
   ]
  },
  {
   "cell_type": "code",
   "execution_count": 88,
   "metadata": {
    "collapsed": true
   },
   "outputs": [],
   "source": [
    "ten_year_complaints = pd.concat([RCF_complaints,ALF_complaints,NF_complaints], ignore_index=True).reset_index().drop('index',1)"
   ]
  },
  {
   "cell_type": "code",
   "execution_count": 89,
   "metadata": {
    "collapsed": true
   },
   "outputs": [],
   "source": [
    "ten_year_complaints.rename(columns={'Abuse_Number':'abuse_number', 'Facility ID':'facility_id','Incident Date':'incident_date','Fac Type': 'facility_type',\n",
    "'Investigation Results':'results_1','FacilityInvestResultsAbuse':'results_2','FacilityInvestResultsRule':'results_3','OutcomeCode':'outcome_code',\n",
    "'CbcAbuse':'abuse_type'}, inplace=True)"
   ]
  },
  {
   "cell_type": "code",
   "execution_count": 90,
   "metadata": {
    "collapsed": true
   },
   "outputs": [],
   "source": [
    "ten_year_complaints = ten_year_complaints[['abuse_number','facility_id','incident_date','results_1',\n",
    "                                           'results_2','results_3','outcome_code','abuse_type']][ten_year_complaints['abuse_number'].notnull()]"
   ]
  },
  {
   "cell_type": "markdown",
   "metadata": {},
   "source": [
    "<h4>There are 52 complaints that have been mislabelled as unsubstatiated.</h4>"
   ]
  },
  {
   "cell_type": "code",
   "execution_count": 91,
   "metadata": {
    "collapsed": false
   },
   "outputs": [],
   "source": [
    "sub_comps = pd.read_excel('/Users/fzarkhin/OneDrive - Advance Central Services, Inc/fproj/github/database-story/data/raw/52 mislabelled as unsubstantiated.xlsx', header=None, names=['abuse_number'])"
   ]
  },
  {
   "cell_type": "code",
   "execution_count": 92,
   "metadata": {
    "collapsed": false
   },
   "outputs": [],
   "source": [
    "miss_comps = sub_comps.merge(ten_year_complaints, how = 'left', left_on='abuse_number',right_on='abuse_number')#.count()"
   ]
  },
  {
   "cell_type": "markdown",
   "metadata": {},
   "source": [
    "This dataset contains unsubstantiated complaints, which we don't need. There are three columns that indicate substantiation. A DHS person explained that if any one of them has the word 'substantiated,' then the complaint was substantiated. "
   ]
  },
  {
   "cell_type": "code",
   "execution_count": 93,
   "metadata": {
    "collapsed": false
   },
   "outputs": [],
   "source": [
    "ten_year_complaints = ten_year_complaints[(ten_year_complaints['results_1']=='Substantiated')|\n",
    "                   (ten_year_complaints['results_2']=='Substantiated')|\n",
    "                   (ten_year_complaints['results_3']=='Substantiated')]"
   ]
  },
  {
   "cell_type": "code",
   "execution_count": 94,
   "metadata": {
    "collapsed": true
   },
   "outputs": [],
   "source": [
    "ten_year_complaints = pd.concat([ten_year_complaints,miss_comps]).reset_index().drop('index',1)"
   ]
  },
  {
   "cell_type": "code",
   "execution_count": 95,
   "metadata": {
    "collapsed": false
   },
   "outputs": [],
   "source": [
    "ten_year_ready = ten_year_complaints[['abuse_number','facility_id','incident_date','outcome_code','abuse_type']].reset_index().drop('index',1)"
   ]
  },
  {
   "cell_type": "markdown",
   "metadata": {},
   "source": [
    "<h3>Now we prepare the five-year, detailed data</h3>"
   ]
  },
  {
   "cell_type": "markdown",
   "metadata": {},
   "source": [
    "The 'detailed' data is a five-year set of substantiated complaints against all facilities, including adult foster homes, which we don't want."
   ]
  },
  {
   "cell_type": "code",
   "execution_count": 96,
   "metadata": {
    "collapsed": false
   },
   "outputs": [],
   "source": [
    "detailed.rename(columns={'Abuse_Number':'abuse_number','Facility ID':'facility_id',\n",
    "                'Incident Date':'incident_date','Investigation Results':'results_1',\n",
    "                'Facility Invest Results Abuse':'results_2','Facility Invest Results Rule':'results_3',\n",
    "               'Outcome Code':'outcome_code','Action Notes':'action_notes','Outcome Notes':'outcome_notes',\n",
    "               'Cbc Abuse Indicator':'abuse_type', 'Facility Type':'facility_type'}, inplace=True)"
   ]
  },
  {
   "cell_type": "markdown",
   "metadata": {},
   "source": [
    "Drop Adult Foster Homes and select columns."
   ]
  },
  {
   "cell_type": "code",
   "execution_count": 97,
   "metadata": {
    "collapsed": false
   },
   "outputs": [],
   "source": [
    "five_year_complaints = detailed[['abuse_number','facility_id','facility_type','incident_date','outcome_code',\n",
    "                      'action_notes','outcome_notes','abuse_type']][detailed['facility_type']!='AFH']"
   ]
  },
  {
   "cell_type": "markdown",
   "metadata": {},
   "source": [
    "No longer need the facility_type field."
   ]
  },
  {
   "cell_type": "code",
   "execution_count": 98,
   "metadata": {
    "collapsed": false
   },
   "outputs": [],
   "source": [
    "five_year_ready = five_year_complaints.drop('facility_type',1)"
   ]
  },
  {
   "cell_type": "markdown",
   "metadata": {},
   "source": [
    "There are thousands of complaints that appear in both datasets. If a complaint is a duplicate, we want to keep the one that is in the five-year set, because that one has richer data. To do this, we will add a 'source' column to each dataframe, value '1' for the five-year data and '2' for the ten-year data. We will then sort based on that column, then de-duplicate on the abuse_number field, telling pandas to keep the first instance of the duplicate that it finds."
   ]
  },
  {
   "cell_type": "code",
   "execution_count": 99,
   "metadata": {
    "collapsed": true
   },
   "outputs": [],
   "source": [
    "five_year_ready['source']=1"
   ]
  },
  {
   "cell_type": "code",
   "execution_count": 100,
   "metadata": {
    "collapsed": false
   },
   "outputs": [],
   "source": [
    "ten_year_ready['source']=2"
   ]
  },
  {
   "cell_type": "code",
   "execution_count": 101,
   "metadata": {
    "collapsed": false
   },
   "outputs": [],
   "source": [
    "five_ten_concat = pd.concat([five_year_ready,ten_year_ready])"
   ]
  },
  {
   "cell_type": "markdown",
   "metadata": {},
   "source": [
    "Set abuse_numbers to uppercase (three abuse numbers in ten-year data have lowercase)"
   ]
  },
  {
   "cell_type": "code",
   "execution_count": 102,
   "metadata": {
    "collapsed": false
   },
   "outputs": [],
   "source": [
    "five_ten_concat['abuse_number'] = five_ten_concat['abuse_number'].apply(lambda x:x.upper())"
   ]
  },
  {
   "cell_type": "code",
   "execution_count": 103,
   "metadata": {
    "collapsed": true
   },
   "outputs": [],
   "source": [
    "five_ten_concat = five_ten_concat.sort_values('source')"
   ]
  },
  {
   "cell_type": "code",
   "execution_count": 104,
   "metadata": {
    "collapsed": false
   },
   "outputs": [],
   "source": [
    "complaints = five_ten_concat.drop_duplicates(subset='abuse_number', keep='first').reset_index().drop('index',1)"
   ]
  },
  {
   "cell_type": "markdown",
   "metadata": {},
   "source": [
    "Add a 'year' column based on incident date."
   ]
  },
  {
   "cell_type": "code",
   "execution_count": 105,
   "metadata": {
    "collapsed": false
   },
   "outputs": [],
   "source": [
    "complaints['year']=complaints['incident_date'].dt.year.astype(int)"
   ]
  },
  {
   "cell_type": "code",
   "execution_count": 106,
   "metadata": {
    "collapsed": false
   },
   "outputs": [
    {
     "data": {
      "text/plain": [
       "abuse_number     13705\n",
       "abuse_type       12478\n",
       "action_notes      6574\n",
       "facility_id      13705\n",
       "incident_date    13705\n",
       "outcome_code     13704\n",
       "outcome_notes     6544\n",
       "source           13705\n",
       "year             13705\n",
       "dtype: int64"
      ]
     },
     "execution_count": 106,
     "metadata": {},
     "output_type": "execute_result"
    }
   ],
   "source": [
    "complaints.count()"
   ]
  },
  {
   "cell_type": "code",
   "execution_count": 107,
   "metadata": {
    "collapsed": true
   },
   "outputs": [],
   "source": [
    "complaints['abuse_type'].fillna('',inplace=True)"
   ]
  },
  {
   "cell_type": "markdown",
   "metadata": {},
   "source": [
    "<h3>Clean the abuse_type column</h3>"
   ]
  },
  {
   "cell_type": "code",
   "execution_count": 108,
   "metadata": {
    "collapsed": false
   },
   "outputs": [],
   "source": [
    "complaints['abuse_type'] = complaints['abuse_type'].apply(lambda x: x.upper())"
   ]
  },
  {
   "cell_type": "code",
   "execution_count": 109,
   "metadata": {
    "collapsed": true
   },
   "outputs": [],
   "source": [
    "complaints[\"abuse_type\"] = complaints[\"abuse_type\"].apply(dict([\n",
    "    ('0', ''),  \n",
    "    ('1', ''),  \n",
    "    ('2', ''),  \n",
    "    ('363', ''),  \n",
    "    ('I', ''),\n",
    "    ('A', 'A'),\n",
    "    ('L', 'L'),\n",
    "]).get).fillna('')"
   ]
  },
  {
   "cell_type": "markdown",
   "metadata": {},
   "source": [
    "<h2>Join with scraped complaints</h2>"
   ]
  },
  {
   "cell_type": "markdown",
   "metadata": {},
   "source": [
    "Complaints were scraped from https://apps.state.or.us/cf2/spd/facility_complaints/ using the script in `..scraper/DHS_scraper.py`"
   ]
  },
  {
   "cell_type": "code",
   "execution_count": 110,
   "metadata": {
    "collapsed": false
   },
   "outputs": [],
   "source": [
    "scraped_comp = pd.read_csv('/Users/fzarkhin/OneDrive - Advance Central Services, Inc/fproj/github/database-story/data/scraped/scraped_complaints_4_14.csv')"
   ]
  },
  {
   "cell_type": "markdown",
   "metadata": {},
   "source": [
    "Set all abuse numbers to upper case. "
   ]
  },
  {
   "cell_type": "code",
   "execution_count": 111,
   "metadata": {
    "collapsed": false
   },
   "outputs": [],
   "source": [
    "scraped_comp['abuse_number'] = scraped_comp['abuse_number'].apply(lambda x: x.upper())"
   ]
  },
  {
   "cell_type": "code",
   "execution_count": 112,
   "metadata": {
    "collapsed": false
   },
   "outputs": [],
   "source": [
    "scraped_comp = scraped_comp.drop_duplicates(subset='abuse_number').drop(['fac_type','inv_comp_date','city_name'],1)"
   ]
  },
  {
   "cell_type": "code",
   "execution_count": 113,
   "metadata": {
    "collapsed": false
   },
   "outputs": [],
   "source": [
    "merged = complaints.merge(scraped_comp, how = 'left',on = 'abuse_number')"
   ]
  },
  {
   "cell_type": "code",
   "execution_count": 114,
   "metadata": {
    "collapsed": false
   },
   "outputs": [],
   "source": [
    "merged['outcome_code'] = merged['outcome_code'].fillna(0)"
   ]
  },
  {
   "cell_type": "markdown",
   "metadata": {},
   "source": [
    "Add a column that tells us if the complaint has an equivalent online, based on the present of the online name."
   ]
  },
  {
   "cell_type": "code",
   "execution_count": 115,
   "metadata": {
    "collapsed": false
   },
   "outputs": [],
   "source": [
    "merged['public'] = np.where(merged['fac_name'].notnull(),'online','offline')"
   ]
  },
  {
   "cell_type": "markdown",
   "metadata": {},
   "source": [
    "<h3>Join to a lookup table for the code number</h3>"
   ]
  },
  {
   "cell_type": "code",
   "execution_count": 116,
   "metadata": {
    "collapsed": true
   },
   "outputs": [],
   "source": [
    "codes = pd.read_excel('/Users/fzarkhin/OneDrive - Advance Central Services, Inc/fproj/github/database-story/data/raw/OLRO Outcome Codes.xlsx', header=3)\n",
    "codes.rename(columns = {'Code':'outcome_code','Display Text':'outcome'}, inplace = True)\n",
    "codes['outcome_code'] = codes['outcome_code'].astype(str)\n",
    "codes = codes.drop('Definition',1)"
   ]
  },
  {
   "cell_type": "code",
   "execution_count": 117,
   "metadata": {
    "collapsed": false
   },
   "outputs": [],
   "source": [
    "merged['outcome_code'] = merged['outcome_code'].astype(int).astype(str)"
   ]
  },
  {
   "cell_type": "code",
   "execution_count": 118,
   "metadata": {
    "collapsed": true
   },
   "outputs": [],
   "source": [
    "merged = merged.merge(codes, how = 'left')"
   ]
  },
  {
   "cell_type": "code",
   "execution_count": 119,
   "metadata": {
    "collapsed": false
   },
   "outputs": [
    {
     "data": {
      "text/html": [
       "<div>\n",
       "<table border=\"1\" class=\"dataframe\">\n",
       "  <thead>\n",
       "    <tr style=\"text-align: right;\">\n",
       "      <th></th>\n",
       "      <th>abuse_number</th>\n",
       "      <th>action_notes</th>\n",
       "      <th>facility_id</th>\n",
       "      <th>incident_date</th>\n",
       "      <th>outcome_code</th>\n",
       "      <th>outcome_notes</th>\n",
       "      <th>source</th>\n",
       "      <th>year</th>\n",
       "      <th>fac_name</th>\n",
       "      <th>online_incident_date</th>\n",
       "      <th>public</th>\n",
       "      <th>outcome</th>\n",
       "    </tr>\n",
       "    <tr>\n",
       "      <th>abuse_type</th>\n",
       "      <th></th>\n",
       "      <th></th>\n",
       "      <th></th>\n",
       "      <th></th>\n",
       "      <th></th>\n",
       "      <th></th>\n",
       "      <th></th>\n",
       "      <th></th>\n",
       "      <th></th>\n",
       "      <th></th>\n",
       "      <th></th>\n",
       "      <th></th>\n",
       "    </tr>\n",
       "  </thead>\n",
       "  <tbody>\n",
       "    <tr>\n",
       "      <th></th>\n",
       "      <td>1231</td>\n",
       "      <td>1219</td>\n",
       "      <td>1231</td>\n",
       "      <td>1231</td>\n",
       "      <td>1231</td>\n",
       "      <td>1166</td>\n",
       "      <td>1231</td>\n",
       "      <td>1231</td>\n",
       "      <td>426</td>\n",
       "      <td>426</td>\n",
       "      <td>1231</td>\n",
       "      <td>1230</td>\n",
       "    </tr>\n",
       "    <tr>\n",
       "      <th>A</th>\n",
       "      <td>3836</td>\n",
       "      <td>2101</td>\n",
       "      <td>3836</td>\n",
       "      <td>3836</td>\n",
       "      <td>3836</td>\n",
       "      <td>2120</td>\n",
       "      <td>3836</td>\n",
       "      <td>3836</td>\n",
       "      <td>3774</td>\n",
       "      <td>3774</td>\n",
       "      <td>3836</td>\n",
       "      <td>3836</td>\n",
       "    </tr>\n",
       "    <tr>\n",
       "      <th>L</th>\n",
       "      <td>8638</td>\n",
       "      <td>3254</td>\n",
       "      <td>8638</td>\n",
       "      <td>8638</td>\n",
       "      <td>8638</td>\n",
       "      <td>3258</td>\n",
       "      <td>8638</td>\n",
       "      <td>8638</td>\n",
       "      <td>1232</td>\n",
       "      <td>1232</td>\n",
       "      <td>8638</td>\n",
       "      <td>8636</td>\n",
       "    </tr>\n",
       "  </tbody>\n",
       "</table>\n",
       "</div>"
      ],
      "text/plain": [
       "            abuse_number  action_notes  facility_id  incident_date  \\\n",
       "abuse_type                                                           \n",
       "                    1231          1219         1231           1231   \n",
       "A                   3836          2101         3836           3836   \n",
       "L                   8638          3254         8638           8638   \n",
       "\n",
       "            outcome_code  outcome_notes  source  year  fac_name  \\\n",
       "abuse_type                                                        \n",
       "                    1231           1166    1231  1231       426   \n",
       "A                   3836           2120    3836  3836      3774   \n",
       "L                   8638           3258    8638  8638      1232   \n",
       "\n",
       "            online_incident_date  public  outcome  \n",
       "abuse_type                                         \n",
       "                             426    1231     1230  \n",
       "A                           3774    3836     3836  \n",
       "L                           1232    8638     8636  "
      ]
     },
     "execution_count": 119,
     "metadata": {},
     "output_type": "execute_result"
    }
   ],
   "source": [
    "merged.groupby('abuse_type').count()"
   ]
  },
  {
   "cell_type": "code",
   "execution_count": 120,
   "metadata": {
    "collapsed": false
   },
   "outputs": [],
   "source": [
    "merged['fac_name'].fillna('',inplace=True)"
   ]
  },
  {
   "cell_type": "markdown",
   "metadata": {},
   "source": [
    "<h1>Join with facilities</h1>"
   ]
  },
  {
   "cell_type": "markdown",
   "metadata": {},
   "source": [
    "<h4>First, prep the facilities.</h4>"
   ]
  },
  {
   "cell_type": "code",
   "execution_count": 121,
   "metadata": {
    "collapsed": false
   },
   "outputs": [],
   "source": [
    "facilities = pd.read_csv('/Users/fzarkhin/OneDrive - Advance Central Services, Inc/fproj/github/database-story/data/raw/APD_FacilityRecords.csv')"
   ]
  },
  {
   "cell_type": "code",
   "execution_count": 122,
   "metadata": {
    "collapsed": false
   },
   "outputs": [],
   "source": [
    "facilities.rename(columns={'FACID':'facid','Facility ID':'facility_id','FAC_CCMUNumber':'fac_ccmunumber','FAC_Type':'facility_type',\n",
    "                          'FAC_Capacity':'fac_capacity','Facility Name':'facility_name','Facility Address':'street',\n",
    "                          'Other Service':'other_service','Owner':'owner','Operator':'operator'}, inplace=True)"
   ]
  },
  {
   "cell_type": "markdown",
   "metadata": {},
   "source": [
    "Select the columns we need and drop the one duplicate in here. "
   ]
  },
  {
   "cell_type": "code",
   "execution_count": 123,
   "metadata": {
    "collapsed": false
   },
   "outputs": [],
   "source": [
    "facilities = facilities[['facility_id','fac_ccmunumber','facility_type','fac_capacity','facility_name']].drop_duplicates(subset='facility_id', keep='last')"
   ]
  },
  {
   "cell_type": "markdown",
   "metadata": {},
   "source": [
    "Churchill Estates Residential Care has blank facility_type and capacity fields. The facility is an RCF."
   ]
  },
  {
   "cell_type": "code",
   "execution_count": 124,
   "metadata": {
    "collapsed": false
   },
   "outputs": [],
   "source": [
    "facilities.loc[318,'facility_type']='RCF'\n",
    "facilities.loc[318,'fac_capacity']=108"
   ]
  },
  {
   "cell_type": "markdown",
   "metadata": {},
   "source": [
    "<h3>Left join facilities to complaints.</h3>"
   ]
  },
  {
   "cell_type": "markdown",
   "metadata": {},
   "source": [
    "This eliminates complaints without facilities."
   ]
  },
  {
   "cell_type": "code",
   "execution_count": 125,
   "metadata": {
    "collapsed": false
   },
   "outputs": [],
   "source": [
    "merged_comp_fac = facilities.merge(merged, on = 'facility_id',how = 'left')"
   ]
  },
  {
   "cell_type": "markdown",
   "metadata": {},
   "source": [
    "The analysis is only of complaints in 2005 or later. "
   ]
  },
  {
   "cell_type": "code",
   "execution_count": 126,
   "metadata": {
    "collapsed": false
   },
   "outputs": [],
   "source": [
    "merged_comp_fac = merged_comp_fac[['abuse_number','facility_id','facility_type','facility_name','abuse_type','action_notes','incident_date','outcome','outcome_notes',\n",
    "                                   'year','fac_name','public']][merged_comp_fac['year']>2004]"
   ]
  },
  {
   "cell_type": "markdown",
   "metadata": {},
   "source": [
    "merged_comp_fac has all the complaints we need for the complaints analysis."
   ]
  },
  {
   "cell_type": "markdown",
   "metadata": {},
   "source": [
    "<h2>Aggregate data by facility</h2>"
   ]
  },
  {
   "cell_type": "code",
   "execution_count": 127,
   "metadata": {
    "collapsed": false
   },
   "outputs": [],
   "source": [
    "complaint_pivot = merged.pivot_table(values='abuse_number',index='facility_id',columns='public', aggfunc='count').reset_index()"
   ]
  },
  {
   "cell_type": "markdown",
   "metadata": {},
   "source": [
    "Next, left join the facilities to the pivot table."
   ]
  },
  {
   "cell_type": "code",
   "execution_count": 128,
   "metadata": {
    "collapsed": false
   },
   "outputs": [],
   "source": [
    "fac_pivot_merge = facilities.merge(complaint_pivot, how='left',on='facility_id')"
   ]
  },
  {
   "cell_type": "markdown",
   "metadata": {},
   "source": [
    "<h2>Add our own outcome code</h2>"
   ]
  },
  {
   "cell_type": "code",
   "execution_count": 129,
   "metadata": {
    "collapsed": false
   },
   "outputs": [],
   "source": [
    "merged_comp_fac[\"omg_outcome\"] = merged_comp_fac[\"outcome\"].apply(dict([\n",
    "    ('No Negative Outcome', 'Potential harm'),\n",
    "    ('Exposed to Potential Harm', 'Potential harm'),\n",
    "            \n",
    "    ('Fall Without Injury', 'Fall, no injury'),\n",
    "            \n",
    "    ('Left facility without assistance without injury', 'Left facility without attendant, no injury'),\n",
    "            \n",
    "    ('Loss of Dignity', 'Loss of Dignity'),\n",
    "            \n",
    "    ('Fall with Injury', 'Fracture or other injury'),\n",
    "    ('Injury During Self-Transfer', 'Fracture or other injury'),\n",
    "    ('Fall Resulting In Fractured Bone(s)', 'Fracture or other injury'),\n",
    "    ('Fall Resulting In Fractured Hip', 'Fracture or other injury'),\n",
    "    ('Transfer Resulting In Skin Injury or Bruise', 'Fracture or other injury'),\n",
    "    ('Fractured Bone', 'Fracture or other injury'),\n",
    "    ('Fractured Hip', 'Fracture or other injury'),\n",
    "    ('Burned', 'Fracture or other injury'),\n",
    "    ('Transfer Resulting In Fractured Hip', 'Fracture or other injury'),\n",
    "    ('Transfer Resulting In Fracture Bone(s)', 'Fracture or other injury'),\n",
    "    ('Left Facility Without Assistance With Injury', 'Fracture or other injury'),\n",
    "    ('Bruised', 'Fracture or other injury'),\n",
    "    ('Skin Injury', 'Fracture or other injury'),\n",
    "            \n",
    "    ('Negative Behavior Escalated, Affected Other Resident(s)', 'Failure to address resident aggression'),\n",
    "            \n",
    "    ('Medical Condition Developed or Worsened', 'Medical condition developed or worsened'),\n",
    "    ('Decubitus Ulcer(s) Developed', 'Medical condition developed or worsened'),\n",
    "    ('Decubitus Ulcer(s) Worsened', 'Medical condition developed or worsened'),\n",
    "    ('Urinary Tract Infection Worsened', 'Medical condition developed or worsened'),\n",
    "    ('Transfer To Hospital For Treatment', 'Medical condition developed or worsened'),\n",
    "            \n",
    "    ('Received Incorrect or Wrong Dose of Medication(s)', 'Medication error'),\n",
    "    ('The resident did not receive an ordered medication', 'Medication error'),\n",
    "            \n",
    "    ('Loss of Resident Property', 'Loss of property, theft or financial exploitation'),\n",
    "    ('Loss of Medication', 'Loss of property, theft or financial exploitation'),\n",
    "    ('Financially Exploited', 'Loss of property, theft or financial exploitation'),\n",
    "            \n",
    "    ('Unreasonable Discomfort', 'Unreasonable discomfort or continued pain'),\n",
    "    ('Pain And Suffering Continued', 'Unreasonable discomfort or continued pain'),\n",
    "            \n",
    "    ('Undesirable Weight Loss', 'Weight loss'),\n",
    "            \n",
    "    ('Poor Continuity Of Care', 'Inadequate care'),\n",
    "    ('Failed To Have Quality of Life Maintained or Enhanced', 'Inadequate care'),\n",
    "    ('Failed to Receive Needed Services', 'Inadequate care'),\n",
    "    ('Denied Choice In Treatment', 'Inadequate care'),\n",
    "            \n",
    "    ('Incontinence', 'Inadequate hygiene'),\n",
    "    ('Inadequate Hygiene', 'Inadequate hygiene'),\n",
    "            \n",
    "    ('Physically Abused', 'Physical abuse'),\n",
    "    ('Corporally Punished', 'Physical abuse'),\n",
    "            \n",
    "    ('Verbally Abused', 'Verbal or emotional abuse'),\n",
    "    ('Mentally or Emotionally Abused', 'Verbal or emotional abuse'),\n",
    "            \n",
    "    ('Involuntarily Secluded', 'Involuntary seclusion'),\n",
    "            \n",
    "    ('Raped', 'Sexual abuse'),\n",
    "    ('Sexually Abused', 'Sexual abuse'),\n",
    "            \n",
    "    ('Deceased', 'Death'),\n",
    "    ('Facility was understaffed with no negative outcome', 'Staffing issues'),\n",
    "    ('Unable to timely assess adequacy of staffing', 'Staffing issues'),\n",
    "            \n",
    "    ('Improperly Transferred Out of Facility, Denied Readmission or Inappropriate Move Within Facility', 'Denied readmission or moved improperly'),\n",
    "]).get).fillna('')"
   ]
  },
  {
   "cell_type": "markdown",
   "metadata": {},
   "source": [
    "<h2>Export the facility and complaints data for munging</h2>"
   ]
  },
  {
   "cell_type": "code",
   "execution_count": 130,
   "metadata": {
    "collapsed": false
   },
   "outputs": [],
   "source": [
    "merged_comp_fac.to_csv('/Users/fzarkhin/OneDrive - Advance Central Services, Inc/fproj/github/database-story/data/processed/complaints-after-state-updates.csv',index=False)"
   ]
  },
  {
   "cell_type": "code",
   "execution_count": 131,
   "metadata": {
    "collapsed": true
   },
   "outputs": [],
   "source": [
    "fac_pivot_merge.to_csv('/Users/fzarkhin/OneDrive - Advance Central Services, Inc/fproj/github/database-story/data/processed/facilities-after-state-updates.csv',index=False)"
   ]
  },
  {
   "cell_type": "markdown",
   "metadata": {},
   "source": [
    "<h1>DONE</h1>"
   ]
  }
 ],
 "metadata": {
  "anaconda-cloud": {},
  "kernelspec": {
   "display_name": "Python [default]",
   "language": "python",
   "name": "python3"
  },
  "language_info": {
   "codemirror_mode": {
    "name": "ipython",
    "version": 3
   },
   "file_extension": ".py",
   "mimetype": "text/x-python",
   "name": "python",
   "nbconvert_exporter": "python",
   "pygments_lexer": "ipython3",
   "version": "3.5.2"
  }
 },
 "nbformat": 4,
 "nbformat_minor": 1
}
