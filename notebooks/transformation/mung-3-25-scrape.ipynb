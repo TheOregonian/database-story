{
 "cells": [
  {
   "cell_type": "code",
   "execution_count": 229,
   "metadata": {
    "collapsed": false,
    "scrolled": true
   },
   "outputs": [
    {
     "data": {
      "text/html": [
       "<style>.container { width:100% !important; }</style>"
      ],
      "text/plain": [
       "<IPython.core.display.HTML object>"
      ]
     },
     "metadata": {},
     "output_type": "display_data"
    }
   ],
   "source": [
    "import pandas as pd\n",
    "import numpy as np\n",
    "from IPython.core.display import display, HTML\n",
    "display(HTML(\"<style>.container { width:100% !important; }</style>\"))"
   ]
  },
  {
   "cell_type": "markdown",
   "metadata": {},
   "source": [
    "<h3>This munging uses data scraped 3/25/2017</h3>"
   ]
  },
  {
   "cell_type": "markdown",
   "metadata": {},
   "source": [
    "The Department of Human Services provided us with seven spreadsheets that each have information about substantiated complaints against assisted living, residential care, and nursing facilities in Oregon. The purpose of this notebook is to mung them, standardizing the column names, removing unnecessary columns, and cleaning some fields. The second purpose of this notebook is to get initial ownership date for facilities from the owner_history table and assign it to each facility."
   ]
  },
  {
   "cell_type": "markdown",
   "metadata": {},
   "source": [
    "<h1>Complaints mung</h1>"
   ]
  },
  {
   "cell_type": "markdown",
   "metadata": {},
   "source": [
    "<h3>Start with the 10-year data that does not have narratives.</h3>"
   ]
  },
  {
   "cell_type": "markdown",
   "metadata": {},
   "source": [
    "<h4>Import, clean, concat.</h4>"
   ]
  },
  {
   "cell_type": "code",
   "execution_count": 230,
   "metadata": {
    "collapsed": false
   },
   "outputs": [],
   "source": [
    "#Five years of detailed complaint data for all four kinds of facilities (Residential Care, Assisted Living, Nursing, and Adult Foster Home)\n",
    "detailed = pd.read_excel('../../data/raw/Oregonian Abuse records 5 years May 2016.xlsx', header=3)\n",
    "#Ten years of non-detailed complaints for Nursing Facilities\n",
    "NF_complaints = pd.read_excel('../../data/raw/Copy of Oregonian Data Request Facility Abuse Records April 2016   Reviewed.xlsx',sheetname='NF Complaints')\n",
    "#Ten years of non-detailed complaints for Assisted Living Facilities\n",
    "ALF_complaints = pd.read_excel('../../data/raw/Copy of Oregonian Data Request Facility Abuse Records April 2016   Reviewed.xlsx',sheetname='ALF Complaints')\n",
    "#Ten years of non-detailed complaints for Residential Care Facilities\n",
    "RCF_complaints = pd.read_excel('../../data/raw/Copy of Oregonian Data Request Facility Abuse Records April 2016   Reviewed.xlsx',sheetname='RCF Complaints')"
   ]
  },
  {
   "cell_type": "code",
   "execution_count": 231,
   "metadata": {
    "collapsed": true
   },
   "outputs": [],
   "source": [
    "#NF has an inconsistently named column\n",
    "NF_complaints.rename(columns={'Abuse_CbcAbuse': 'CbcAbuse'}, inplace=True)"
   ]
  },
  {
   "cell_type": "code",
   "execution_count": 232,
   "metadata": {
    "collapsed": true
   },
   "outputs": [],
   "source": [
    "ten_year_complaints = pd.concat([RCF_complaints,ALF_complaints,NF_complaints], ignore_index=True).reset_index().drop('index',1)"
   ]
  },
  {
   "cell_type": "code",
   "execution_count": 233,
   "metadata": {
    "collapsed": true
   },
   "outputs": [],
   "source": [
    "ten_year_complaints.rename(columns={'Abuse_Number':'abuse_number', 'Facility ID':'facility_id','Incident Date':'incident_date','Fac Type': 'facility_type',\n",
    "'Investigation Results':'results_1','FacilityInvestResultsAbuse':'results_2','FacilityInvestResultsRule':'results_3','OutcomeCode':'outcome_code',\n",
    "'CbcAbuse':'abuse_type'}, inplace=True)"
   ]
  },
  {
   "cell_type": "code",
   "execution_count": 234,
   "metadata": {
    "collapsed": true
   },
   "outputs": [],
   "source": [
    "ten_year_complaints = ten_year_complaints[['abuse_number','facility_id','incident_date','results_1',\n",
    "                                           'results_2','results_3','outcome_code','abuse_type']][ten_year_complaints['abuse_number'].notnull()]"
   ]
  },
  {
   "cell_type": "markdown",
   "metadata": {},
   "source": [
    "<h4>There are 52 complaints that have been mislabelled as unsubstatiated.</h4>"
   ]
  },
  {
   "cell_type": "code",
   "execution_count": 235,
   "metadata": {
    "collapsed": false
   },
   "outputs": [],
   "source": [
    "sub_comps = pd.read_excel('../../data/raw/52 mislabelled as unsubstantiated.xlsx', header=None, names=['abuse_number'])"
   ]
  },
  {
   "cell_type": "code",
   "execution_count": 236,
   "metadata": {
    "collapsed": false
   },
   "outputs": [],
   "source": [
    "miss_comps = sub_comps.merge(ten_year_complaints, how = 'left', left_on='abuse_number',right_on='abuse_number')#.count()"
   ]
  },
  {
   "cell_type": "markdown",
   "metadata": {},
   "source": [
    "This dataset contains unsubstantiated complaints, which we don't need. There are three columns that indicate substantiation. A DHS person explained that if any one of them has the word 'substantiated,' then the complaint was substantiated. "
   ]
  },
  {
   "cell_type": "code",
   "execution_count": 237,
   "metadata": {
    "collapsed": false
   },
   "outputs": [],
   "source": [
    "ten_year_complaints = ten_year_complaints[(ten_year_complaints['results_1']=='Substantiated')|\n",
    "                   (ten_year_complaints['results_2']=='Substantiated')|\n",
    "                   (ten_year_complaints['results_3']=='Substantiated')]"
   ]
  },
  {
   "cell_type": "code",
   "execution_count": 238,
   "metadata": {
    "collapsed": true
   },
   "outputs": [],
   "source": [
    "ten_year_complaints = pd.concat([ten_year_complaints,miss_comps]).reset_index().drop('index',1)"
   ]
  },
  {
   "cell_type": "code",
   "execution_count": 239,
   "metadata": {
    "collapsed": false
   },
   "outputs": [],
   "source": [
    "ten_year_ready = ten_year_complaints[['abuse_number','facility_id','incident_date','outcome_code','abuse_type']].reset_index().drop('index',1)"
   ]
  },
  {
   "cell_type": "markdown",
   "metadata": {},
   "source": [
    "<h3>Now we prepare the five-year, detailed data</h3>"
   ]
  },
  {
   "cell_type": "markdown",
   "metadata": {},
   "source": [
    "The 'detailed' data is a five-year set of substantiated complaints against all facilities, including adult foster homes, which we don't want."
   ]
  },
  {
   "cell_type": "code",
   "execution_count": 240,
   "metadata": {
    "collapsed": false
   },
   "outputs": [],
   "source": [
    "detailed.rename(columns={'Abuse_Number':'abuse_number','Facility ID':'facility_id',\n",
    "                'Incident Date':'incident_date','Investigation Results':'results_1',\n",
    "                'Facility Invest Results Abuse':'results_2','Facility Invest Results Rule':'results_3',\n",
    "               'Outcome Code':'outcome_code','Action Notes':'action_notes','Outcome Notes':'outcome_notes',\n",
    "               'Cbc Abuse Indicator':'abuse_type', 'Facility Type':'facility_type'}, inplace=True)"
   ]
  },
  {
   "cell_type": "markdown",
   "metadata": {},
   "source": [
    "Drop Adult Foster Homes and select columns."
   ]
  },
  {
   "cell_type": "code",
   "execution_count": 241,
   "metadata": {
    "collapsed": false
   },
   "outputs": [],
   "source": [
    "five_year_complaints = detailed[['abuse_number','facility_id','facility_type','incident_date','outcome_code',\n",
    "                      'action_notes','outcome_notes','abuse_type']][detailed['facility_type']!='AFH']"
   ]
  },
  {
   "cell_type": "markdown",
   "metadata": {},
   "source": [
    "No longer need the facility_type field."
   ]
  },
  {
   "cell_type": "code",
   "execution_count": 242,
   "metadata": {
    "collapsed": false
   },
   "outputs": [],
   "source": [
    "five_year_ready = five_year_complaints.drop('facility_type',1)"
   ]
  },
  {
   "cell_type": "markdown",
   "metadata": {},
   "source": [
    "There are thousands of complaints that appear in both datasets. If a complaint is a duplicate, we want to keep the one that is in the five-year set, because that one has richer data. To do this, we will add a 'source' column to each dataframe, value '1' for the five-year data and '2' for the ten-year data. We will then sort based on that column, then de-duplicate on the abuse_number field, telling pandas to keep the first instance of the duplicate that it finds."
   ]
  },
  {
   "cell_type": "code",
   "execution_count": 243,
   "metadata": {
    "collapsed": true
   },
   "outputs": [],
   "source": [
    "five_year_ready['source']=1"
   ]
  },
  {
   "cell_type": "code",
   "execution_count": 244,
   "metadata": {
    "collapsed": false
   },
   "outputs": [],
   "source": [
    "ten_year_ready['source']=2"
   ]
  },
  {
   "cell_type": "code",
   "execution_count": 245,
   "metadata": {
    "collapsed": false
   },
   "outputs": [],
   "source": [
    "five_ten_concat = pd.concat([five_year_ready,ten_year_ready])"
   ]
  },
  {
   "cell_type": "markdown",
   "metadata": {},
   "source": [
    "Set abuse_numbers to uppercase (three abuse numbers in ten-year data have lowercase)"
   ]
  },
  {
   "cell_type": "code",
   "execution_count": 246,
   "metadata": {
    "collapsed": false
   },
   "outputs": [],
   "source": [
    "five_ten_concat['abuse_number'] = five_ten_concat['abuse_number'].apply(lambda x:x.upper())"
   ]
  },
  {
   "cell_type": "code",
   "execution_count": 247,
   "metadata": {
    "collapsed": true
   },
   "outputs": [],
   "source": [
    "five_ten_concat = five_ten_concat.sort_values('source')"
   ]
  },
  {
   "cell_type": "code",
   "execution_count": 248,
   "metadata": {
    "collapsed": false
   },
   "outputs": [],
   "source": [
    "complaints = five_ten_concat.drop_duplicates(subset='abuse_number', keep='first').reset_index().drop('index',1)"
   ]
  },
  {
   "cell_type": "markdown",
   "metadata": {},
   "source": [
    "Add a 'year' column based on incident date."
   ]
  },
  {
   "cell_type": "code",
   "execution_count": 249,
   "metadata": {
    "collapsed": false
   },
   "outputs": [],
   "source": [
    "complaints['year']=complaints['incident_date'].dt.year.astype(int)"
   ]
  },
  {
   "cell_type": "code",
   "execution_count": 250,
   "metadata": {
    "collapsed": false
   },
   "outputs": [
    {
     "data": {
      "text/plain": [
       "abuse_number     13705\n",
       "abuse_type       12478\n",
       "action_notes      6574\n",
       "facility_id      13705\n",
       "incident_date    13705\n",
       "outcome_code     13704\n",
       "outcome_notes     6544\n",
       "source           13705\n",
       "year             13705\n",
       "dtype: int64"
      ]
     },
     "execution_count": 250,
     "metadata": {},
     "output_type": "execute_result"
    }
   ],
   "source": [
    "complaints.count()"
   ]
  },
  {
   "cell_type": "code",
   "execution_count": 251,
   "metadata": {
    "collapsed": true
   },
   "outputs": [],
   "source": [
    "complaints['abuse_type'].fillna('',inplace=True)"
   ]
  },
  {
   "cell_type": "markdown",
   "metadata": {},
   "source": [
    "<h3>Clean the abuse_type column</h3>"
   ]
  },
  {
   "cell_type": "code",
   "execution_count": 252,
   "metadata": {
    "collapsed": false
   },
   "outputs": [],
   "source": [
    "complaints['abuse_type'] = complaints['abuse_type'].apply(lambda x: x.upper())"
   ]
  },
  {
   "cell_type": "code",
   "execution_count": 253,
   "metadata": {
    "collapsed": true
   },
   "outputs": [],
   "source": [
    "complaints[\"abuse_type\"] = complaints[\"abuse_type\"].apply(dict([\n",
    "    ('0', ''),  \n",
    "    ('1', ''),  \n",
    "    ('2', ''),  \n",
    "    ('363', ''),  \n",
    "    ('I', ''),\n",
    "    ('A', 'A'),\n",
    "    ('L', 'L'),\n",
    "]).get).fillna('')"
   ]
  },
  {
   "cell_type": "markdown",
   "metadata": {},
   "source": [
    "<h2>Join with scraped complaints</h2>"
   ]
  },
  {
   "cell_type": "markdown",
   "metadata": {},
   "source": [
    "Complaints were scraped from https://apps.state.or.us/cf2/spd/facility_complaints/ using the script in `..scraper/DHS_scraper.py`"
   ]
  },
  {
   "cell_type": "code",
   "execution_count": 254,
   "metadata": {
    "collapsed": false
   },
   "outputs": [],
   "source": [
    "scraped_comp = pd.read_csv('../../data/scraped/scraped_complaints_3_25.csv')"
   ]
  },
  {
   "cell_type": "markdown",
   "metadata": {},
   "source": [
    "Set all abuse numbers to upper case. "
   ]
  },
  {
   "cell_type": "code",
   "execution_count": 255,
   "metadata": {
    "collapsed": false
   },
   "outputs": [],
   "source": [
    "scraped_comp['abuse_number'] = scraped_comp['abuse_number'].apply(lambda x: x.upper())"
   ]
  },
  {
   "cell_type": "code",
   "execution_count": 256,
   "metadata": {
    "collapsed": false
   },
   "outputs": [],
   "source": [
    "scraped_comp = scraped_comp.drop_duplicates(subset='abuse_number').drop(['fac_type','inv_comp_date','city_name'],1)"
   ]
  },
  {
   "cell_type": "code",
   "execution_count": 257,
   "metadata": {
    "collapsed": false
   },
   "outputs": [],
   "source": [
    "merged = complaints.merge(scraped_comp, how = 'left',on = 'abuse_number')"
   ]
  },
  {
   "cell_type": "code",
   "execution_count": 258,
   "metadata": {
    "collapsed": false
   },
   "outputs": [],
   "source": [
    "merged['outcome_code'] = merged['outcome_code'].fillna(0)"
   ]
  },
  {
   "cell_type": "markdown",
   "metadata": {},
   "source": [
    "Add a column that tells us if the complaint has an equivalent online, based on the present of the online name."
   ]
  },
  {
   "cell_type": "code",
   "execution_count": 259,
   "metadata": {
    "collapsed": false
   },
   "outputs": [],
   "source": [
    "merged['public'] = np.where(merged['fac_name'].notnull(),'online','offline')"
   ]
  },
  {
   "cell_type": "markdown",
   "metadata": {},
   "source": [
    "<h3>Join to a lookup table for the code number</h3>"
   ]
  },
  {
   "cell_type": "code",
   "execution_count": 260,
   "metadata": {
    "collapsed": true
   },
   "outputs": [],
   "source": [
    "codes = pd.read_excel('../../data/raw/OLRO Outcome Codes.xlsx', header=3)\n",
    "codes.rename(columns = {'Code':'outcome_code','Display Text':'outcome'}, inplace = True)\n",
    "codes['outcome_code'] = codes['outcome_code'].astype(str)\n",
    "codes = codes.drop('Definition',1)"
   ]
  },
  {
   "cell_type": "code",
   "execution_count": 261,
   "metadata": {
    "collapsed": false
   },
   "outputs": [],
   "source": [
    "merged['outcome_code'] = merged['outcome_code'].astype(int).astype(str)"
   ]
  },
  {
   "cell_type": "code",
   "execution_count": 262,
   "metadata": {
    "collapsed": true
   },
   "outputs": [],
   "source": [
    "merged = merged.merge(codes, how = 'left')"
   ]
  },
  {
   "cell_type": "code",
   "execution_count": 263,
   "metadata": {
    "collapsed": false
   },
   "outputs": [
    {
     "data": {
      "text/html": [
       "<div>\n",
       "<table border=\"1\" class=\"dataframe\">\n",
       "  <thead>\n",
       "    <tr style=\"text-align: right;\">\n",
       "      <th></th>\n",
       "      <th>abuse_number</th>\n",
       "      <th>action_notes</th>\n",
       "      <th>facility_id</th>\n",
       "      <th>incident_date</th>\n",
       "      <th>outcome_code</th>\n",
       "      <th>outcome_notes</th>\n",
       "      <th>source</th>\n",
       "      <th>year</th>\n",
       "      <th>fac_name</th>\n",
       "      <th>online_incident_date</th>\n",
       "      <th>public</th>\n",
       "      <th>outcome</th>\n",
       "    </tr>\n",
       "    <tr>\n",
       "      <th>abuse_type</th>\n",
       "      <th></th>\n",
       "      <th></th>\n",
       "      <th></th>\n",
       "      <th></th>\n",
       "      <th></th>\n",
       "      <th></th>\n",
       "      <th></th>\n",
       "      <th></th>\n",
       "      <th></th>\n",
       "      <th></th>\n",
       "      <th></th>\n",
       "      <th></th>\n",
       "    </tr>\n",
       "  </thead>\n",
       "  <tbody>\n",
       "    <tr>\n",
       "      <th></th>\n",
       "      <td>1231</td>\n",
       "      <td>1219</td>\n",
       "      <td>1231</td>\n",
       "      <td>1231</td>\n",
       "      <td>1231</td>\n",
       "      <td>1166</td>\n",
       "      <td>1231</td>\n",
       "      <td>1231</td>\n",
       "      <td>426</td>\n",
       "      <td>426</td>\n",
       "      <td>1231</td>\n",
       "      <td>1230</td>\n",
       "    </tr>\n",
       "    <tr>\n",
       "      <th>A</th>\n",
       "      <td>3836</td>\n",
       "      <td>2101</td>\n",
       "      <td>3836</td>\n",
       "      <td>3836</td>\n",
       "      <td>3836</td>\n",
       "      <td>2120</td>\n",
       "      <td>3836</td>\n",
       "      <td>3836</td>\n",
       "      <td>3759</td>\n",
       "      <td>3759</td>\n",
       "      <td>3836</td>\n",
       "      <td>3836</td>\n",
       "    </tr>\n",
       "    <tr>\n",
       "      <th>L</th>\n",
       "      <td>8638</td>\n",
       "      <td>3254</td>\n",
       "      <td>8638</td>\n",
       "      <td>8638</td>\n",
       "      <td>8638</td>\n",
       "      <td>3258</td>\n",
       "      <td>8638</td>\n",
       "      <td>8638</td>\n",
       "      <td>1232</td>\n",
       "      <td>1232</td>\n",
       "      <td>8638</td>\n",
       "      <td>8636</td>\n",
       "    </tr>\n",
       "  </tbody>\n",
       "</table>\n",
       "</div>"
      ],
      "text/plain": [
       "            abuse_number  action_notes  facility_id  incident_date  \\\n",
       "abuse_type                                                           \n",
       "                    1231          1219         1231           1231   \n",
       "A                   3836          2101         3836           3836   \n",
       "L                   8638          3254         8638           8638   \n",
       "\n",
       "            outcome_code  outcome_notes  source  year  fac_name  \\\n",
       "abuse_type                                                        \n",
       "                    1231           1166    1231  1231       426   \n",
       "A                   3836           2120    3836  3836      3759   \n",
       "L                   8638           3258    8638  8638      1232   \n",
       "\n",
       "            online_incident_date  public  outcome  \n",
       "abuse_type                                         \n",
       "                             426    1231     1230  \n",
       "A                           3759    3836     3836  \n",
       "L                           1232    8638     8636  "
      ]
     },
     "execution_count": 263,
     "metadata": {},
     "output_type": "execute_result"
    }
   ],
   "source": [
    "merged.groupby('abuse_type').count()"
   ]
  },
  {
   "cell_type": "code",
   "execution_count": 264,
   "metadata": {
    "collapsed": false
   },
   "outputs": [],
   "source": [
    "merged['fac_name'].fillna('',inplace=True)"
   ]
  },
  {
   "cell_type": "markdown",
   "metadata": {},
   "source": [
    "<h1>Join with facilities</h1>"
   ]
  },
  {
   "cell_type": "markdown",
   "metadata": {},
   "source": [
    "<h4>First, prep the facilities.</h4>"
   ]
  },
  {
   "cell_type": "code",
   "execution_count": 265,
   "metadata": {
    "collapsed": false
   },
   "outputs": [],
   "source": [
    "facilities = pd.read_csv('../../data/raw/APD_FacilityRecords.csv')"
   ]
  },
  {
   "cell_type": "code",
   "execution_count": 266,
   "metadata": {
    "collapsed": false
   },
   "outputs": [],
   "source": [
    "facilities.rename(columns={'FACID':'facid','Facility ID':'facility_id','FAC_CCMUNumber':'fac_ccmunumber','FAC_Type':'facility_type',\n",
    "                          'FAC_Capacity':'fac_capacity','Facility Name':'facility_name','Facility Address':'street',\n",
    "                          'Other Service':'other_service','Owner':'owner','Operator':'operator'}, inplace=True)"
   ]
  },
  {
   "cell_type": "markdown",
   "metadata": {},
   "source": [
    "Select the columns we need and drop the one duplicate in here. "
   ]
  },
  {
   "cell_type": "code",
   "execution_count": 267,
   "metadata": {
    "collapsed": false
   },
   "outputs": [],
   "source": [
    "facilities = facilities[['facility_id','fac_ccmunumber','facility_type','fac_capacity','facility_name']].drop_duplicates(subset='facility_id', keep='last')"
   ]
  },
  {
   "cell_type": "markdown",
   "metadata": {},
   "source": [
    "Churchill Estates Residential Care has blank facility_type and capacity fields. The facility is an RCF and has 108 capacity. Info obtained from DHS PIO."
   ]
  },
  {
   "cell_type": "code",
   "execution_count": 268,
   "metadata": {
    "collapsed": false
   },
   "outputs": [],
   "source": [
    "facilities.loc[318,'facility_type']='RCF'\n",
    "facilities.loc[318,'fac_capacity']=108"
   ]
  },
  {
   "cell_type": "markdown",
   "metadata": {},
   "source": [
    "<h3>Left join facilities to complaints.</h3>"
   ]
  },
  {
   "cell_type": "markdown",
   "metadata": {},
   "source": [
    "This eliminates complaints without facilities."
   ]
  },
  {
   "cell_type": "code",
   "execution_count": 269,
   "metadata": {
    "collapsed": false
   },
   "outputs": [],
   "source": [
    "merged_comp_fac = facilities.merge(merged, on = 'facility_id',how = 'left')"
   ]
  },
  {
   "cell_type": "markdown",
   "metadata": {},
   "source": [
    "The analysis is only of complaints in 2005 or later. "
   ]
  },
  {
   "cell_type": "code",
   "execution_count": 270,
   "metadata": {
    "collapsed": false
   },
   "outputs": [],
   "source": [
    "merged_comp_fac = merged_comp_fac[['abuse_number','facility_id','facility_type','facility_name','abuse_type','action_notes','incident_date','outcome','outcome_notes',\n",
    "                                   'year','fac_name','public']][merged_comp_fac['year']>2004]"
   ]
  },
  {
   "cell_type": "markdown",
   "metadata": {},
   "source": [
    "merged_comp_fac has all the complaints we need for the complaints analysis."
   ]
  },
  {
   "cell_type": "markdown",
   "metadata": {},
   "source": [
    "<h2>Aggregate data by facility</h2>"
   ]
  },
  {
   "cell_type": "code",
   "execution_count": 271,
   "metadata": {
    "collapsed": false
   },
   "outputs": [],
   "source": [
    "complaint_pivot = merged_comp_fac.pivot_table(values='abuse_number',index='facility_id',columns='public', aggfunc='count').reset_index()"
   ]
  },
  {
   "cell_type": "markdown",
   "metadata": {},
   "source": [
    "Next, left join the facilities to the pivot table."
   ]
  },
  {
   "cell_type": "code",
   "execution_count": 272,
   "metadata": {
    "collapsed": false
   },
   "outputs": [],
   "source": [
    "fac_pivot_merge = facilities.merge(complaint_pivot, how='left',on='facility_id')"
   ]
  },
  {
   "cell_type": "markdown",
   "metadata": {},
   "source": [
    "<h2>Add our own outcome code</h2>"
   ]
  },
  {
   "cell_type": "code",
   "execution_count": 273,
   "metadata": {
    "collapsed": false
   },
   "outputs": [],
   "source": [
    "merged_comp_fac[\"omg_outcome\"] = merged_comp_fac[\"outcome\"].apply(dict([\n",
    "    ('No Negative Outcome', 'Potential harm'),\n",
    "    ('Exposed to Potential Harm', 'Potential harm'),\n",
    "            \n",
    "    ('Fall Without Injury', 'Fall, no injury'),\n",
    "            \n",
    "    ('Left facility without assistance without injury', 'Left facility without attendant, no injury'),\n",
    "            \n",
    "    ('Loss of Dignity', 'Loss of Dignity'),\n",
    "            \n",
    "    ('Fall with Injury', 'Fracture or other injury'),\n",
    "    ('Injury During Self-Transfer', 'Fracture or other injury'),\n",
    "    ('Fall Resulting In Fractured Bone(s)', 'Fracture or other injury'),\n",
    "    ('Fall Resulting In Fractured Hip', 'Fracture or other injury'),\n",
    "    ('Transfer Resulting In Skin Injury or Bruise', 'Fracture or other injury'),\n",
    "    ('Fractured Bone', 'Fracture or other injury'),\n",
    "    ('Fractured Hip', 'Fracture or other injury'),\n",
    "    ('Burned', 'Fracture or other injury'),\n",
    "    ('Transfer Resulting In Fractured Hip', 'Fracture or other injury'),\n",
    "    ('Transfer Resulting In Fracture Bone(s)', 'Fracture or other injury'),\n",
    "    ('Left Facility Without Assistance With Injury', 'Fracture or other injury'),\n",
    "    ('Bruised', 'Fracture or other injury'),\n",
    "    ('Skin Injury', 'Fracture or other injury'),\n",
    "            \n",
    "    ('Negative Behavior Escalated, Affected Other Resident(s)', 'Failure to address resident aggression'),\n",
    "            \n",
    "    ('Medical Condition Developed or Worsened', 'Medical condition developed or worsened'),\n",
    "    ('Decubitus Ulcer(s) Developed', 'Medical condition developed or worsened'),\n",
    "    ('Decubitus Ulcer(s) Worsened', 'Medical condition developed or worsened'),\n",
    "    ('Urinary Tract Infection Worsened', 'Medical condition developed or worsened'),\n",
    "    ('Transfer To Hospital For Treatment', 'Medical condition developed or worsened'),\n",
    "            \n",
    "    ('Received Incorrect or Wrong Dose of Medication(s)', 'Medication error'),\n",
    "    ('The resident did not receive an ordered medication', 'Medication error'),\n",
    "            \n",
    "    ('Loss of Resident Property', 'Loss of property, theft or financial exploitation'),\n",
    "    ('Loss of Medication', 'Loss of property, theft or financial exploitation'),\n",
    "    ('Financially Exploited', 'Loss of property, theft or financial exploitation'),\n",
    "            \n",
    "    ('Unreasonable Discomfort', 'Unreasonable discomfort or continued pain'),\n",
    "    ('Pain And Suffering Continued', 'Unreasonable discomfort or continued pain'),\n",
    "            \n",
    "    ('Undesirable Weight Loss', 'Weight loss'),\n",
    "            \n",
    "    ('Poor Continuity Of Care', 'Inadequate care'),\n",
    "    ('Failed To Have Quality of Life Maintained or Enhanced', 'Inadequate care'),\n",
    "    ('Failed to Receive Needed Services', 'Inadequate care'),\n",
    "    ('Denied Choice In Treatment', 'Inadequate care'),\n",
    "            \n",
    "    ('Incontinence', 'Inadequate hygiene'),\n",
    "    ('Inadequate Hygiene', 'Inadequate hygiene'),\n",
    "            \n",
    "    ('Physically Abused', 'Physical abuse'),\n",
    "    ('Corporally Punished', 'Physical abuse'),\n",
    "            \n",
    "    ('Verbally Abused', 'Verbal or emotional abuse'),\n",
    "    ('Mentally or Emotionally Abused', 'Verbal or emotional abuse'),\n",
    "            \n",
    "    ('Involuntarily Secluded', 'Involuntary seclusion'),\n",
    "            \n",
    "    ('Raped', 'Sexual abuse'),\n",
    "    ('Sexually Abused', 'Sexual abuse'),\n",
    "            \n",
    "    ('Deceased', 'Death'),\n",
    "    ('Facility was understaffed with no negative outcome', 'Staffing issues'),\n",
    "    ('Unable to timely assess adequacy of staffing', 'Staffing issues'),\n",
    "            \n",
    "    ('Improperly Transferred Out of Facility, Denied Readmission or Inappropriate Move Within Facility', 'Denied readmission or moved improperly'),\n",
    "]).get).fillna('')"
   ]
  },
  {
   "cell_type": "markdown",
   "metadata": {},
   "source": [
    "<h2>Export the facility and complaints data for munging</h2>"
   ]
  },
  {
   "cell_type": "code",
   "execution_count": 274,
   "metadata": {
    "collapsed": false
   },
   "outputs": [],
   "source": [
    "merged_comp_fac.to_csv('../../data/processed/complaints-3-25-scrape.csv',index=False)"
   ]
  },
  {
   "cell_type": "code",
   "execution_count": 275,
   "metadata": {
    "collapsed": true
   },
   "outputs": [],
   "source": [
    "fac_pivot_merge.to_csv('../../data/processed/facilities-3-25-scrape.csv',index=False)"
   ]
  },
  {
   "cell_type": "markdown",
   "metadata": {},
   "source": [
    "<h1>DONE</h1>"
   ]
  },
  {
   "cell_type": "code",
   "execution_count": 276,
   "metadata": {
    "collapsed": false
   },
   "outputs": [
    {
     "data": {
      "text/html": [
       "<div>\n",
       "<table border=\"1\" class=\"dataframe\">\n",
       "  <thead>\n",
       "    <tr style=\"text-align: right;\">\n",
       "      <th></th>\n",
       "      <th>facility_id</th>\n",
       "      <th>fac_ccmunumber</th>\n",
       "      <th>facility_type</th>\n",
       "      <th>fac_capacity</th>\n",
       "      <th>facility_name</th>\n",
       "      <th>offline</th>\n",
       "      <th>online</th>\n",
       "    </tr>\n",
       "  </thead>\n",
       "  <tbody>\n",
       "    <tr>\n",
       "      <th>50</th>\n",
       "      <td>385166</td>\n",
       "      <td>385166</td>\n",
       "      <td>NF</td>\n",
       "      <td>165.0</td>\n",
       "      <td>Maryville Nursing Home</td>\n",
       "      <td>53.0</td>\n",
       "      <td>12.0</td>\n",
       "    </tr>\n",
       "  </tbody>\n",
       "</table>\n",
       "</div>"
      ],
      "text/plain": [
       "   facility_id fac_ccmunumber facility_type  fac_capacity  \\\n",
       "50      385166         385166            NF         165.0   \n",
       "\n",
       "             facility_name  offline  online  \n",
       "50  Maryville Nursing Home     53.0    12.0  "
      ]
     },
     "execution_count": 276,
     "metadata": {},
     "output_type": "execute_result"
    }
   ],
   "source": [
    "fac_pivot_merge[fac_pivot_merge['facility_id']=='385166']"
   ]
  },
  {
   "cell_type": "code",
   "execution_count": 277,
   "metadata": {
    "collapsed": false
   },
   "outputs": [
    {
     "data": {
      "text/plain": [
       "abuse_number     65\n",
       "facility_id      65\n",
       "facility_type    65\n",
       "facility_name    65\n",
       "abuse_type       65\n",
       "action_notes     30\n",
       "incident_date    65\n",
       "outcome          65\n",
       "outcome_notes    30\n",
       "year             65\n",
       "fac_name         65\n",
       "public           65\n",
       "omg_outcome      65\n",
       "dtype: int64"
      ]
     },
     "execution_count": 277,
     "metadata": {},
     "output_type": "execute_result"
    }
   ],
   "source": [
    "merged_comp_fac[merged_comp_fac['facility_id']=='385166'].count()"
   ]
  },
  {
   "cell_type": "code",
   "execution_count": 278,
   "metadata": {
    "collapsed": true
   },
   "outputs": [],
   "source": [
    "fac_pivot_merge['total']=fac_pivot_merge['online']+fac_pivot_merge['offline']"
   ]
  },
  {
   "cell_type": "code",
   "execution_count": 279,
   "metadata": {
    "collapsed": false
   },
   "outputs": [
    {
     "data": {
      "text/html": [
       "<div>\n",
       "<table border=\"1\" class=\"dataframe\">\n",
       "  <thead>\n",
       "    <tr style=\"text-align: right;\">\n",
       "      <th></th>\n",
       "      <th>facility_id</th>\n",
       "      <th>fac_ccmunumber</th>\n",
       "      <th>facility_type</th>\n",
       "      <th>fac_capacity</th>\n",
       "      <th>facility_name</th>\n",
       "      <th>offline</th>\n",
       "      <th>online</th>\n",
       "      <th>total</th>\n",
       "    </tr>\n",
       "  </thead>\n",
       "  <tbody>\n",
       "    <tr>\n",
       "      <th>0</th>\n",
       "      <td>385008</td>\n",
       "      <td>385008</td>\n",
       "      <td>NF</td>\n",
       "      <td>96.0</td>\n",
       "      <td>Presbyterian Community Care Center</td>\n",
       "      <td>14.0</td>\n",
       "      <td>7.0</td>\n",
       "      <td>21.0</td>\n",
       "    </tr>\n",
       "    <tr>\n",
       "      <th>1</th>\n",
       "      <td>385010</td>\n",
       "      <td>385010</td>\n",
       "      <td>NF</td>\n",
       "      <td>159.0</td>\n",
       "      <td>Laurelhurst Village Rehabilitation Center</td>\n",
       "      <td>29.0</td>\n",
       "      <td>15.0</td>\n",
       "      <td>44.0</td>\n",
       "    </tr>\n",
       "    <tr>\n",
       "      <th>2</th>\n",
       "      <td>385015</td>\n",
       "      <td>385015</td>\n",
       "      <td>NF</td>\n",
       "      <td>128.0</td>\n",
       "      <td>Regency Gresham Nursing &amp; Rehabilitation Center</td>\n",
       "      <td>27.0</td>\n",
       "      <td>8.0</td>\n",
       "      <td>35.0</td>\n",
       "    </tr>\n",
       "    <tr>\n",
       "      <th>3</th>\n",
       "      <td>385018</td>\n",
       "      <td>385018</td>\n",
       "      <td>NF</td>\n",
       "      <td>98.0</td>\n",
       "      <td>Providence Benedictine Nursing Center</td>\n",
       "      <td>18.0</td>\n",
       "      <td>5.0</td>\n",
       "      <td>23.0</td>\n",
       "    </tr>\n",
       "    <tr>\n",
       "      <th>4</th>\n",
       "      <td>385024</td>\n",
       "      <td>385024</td>\n",
       "      <td>NF</td>\n",
       "      <td>91.0</td>\n",
       "      <td>Avamere Health Services of Rogue Valley</td>\n",
       "      <td>67.0</td>\n",
       "      <td>27.0</td>\n",
       "      <td>94.0</td>\n",
       "    </tr>\n",
       "    <tr>\n",
       "      <th>5</th>\n",
       "      <td>385031</td>\n",
       "      <td>385031</td>\n",
       "      <td>NF</td>\n",
       "      <td>127.0</td>\n",
       "      <td>Avamere Crestview of Portland</td>\n",
       "      <td>27.0</td>\n",
       "      <td>18.0</td>\n",
       "      <td>45.0</td>\n",
       "    </tr>\n",
       "    <tr>\n",
       "      <th>6</th>\n",
       "      <td>385039</td>\n",
       "      <td>385039</td>\n",
       "      <td>NF</td>\n",
       "      <td>84.0</td>\n",
       "      <td>Baycrest Health Center</td>\n",
       "      <td>62.0</td>\n",
       "      <td>28.0</td>\n",
       "      <td>90.0</td>\n",
       "    </tr>\n",
       "    <tr>\n",
       "      <th>7</th>\n",
       "      <td>385044</td>\n",
       "      <td>385044</td>\n",
       "      <td>NF</td>\n",
       "      <td>83.0</td>\n",
       "      <td>Prestige Care and Rehabilitation of Menlo Park</td>\n",
       "      <td>30.0</td>\n",
       "      <td>27.0</td>\n",
       "      <td>57.0</td>\n",
       "    </tr>\n",
       "    <tr>\n",
       "      <th>8</th>\n",
       "      <td>385045</td>\n",
       "      <td>385045</td>\n",
       "      <td>NF</td>\n",
       "      <td>99.0</td>\n",
       "      <td>Porthaven Healthcare Center</td>\n",
       "      <td>18.0</td>\n",
       "      <td>8.0</td>\n",
       "      <td>26.0</td>\n",
       "    </tr>\n",
       "    <tr>\n",
       "      <th>9</th>\n",
       "      <td>385046</td>\n",
       "      <td>385046</td>\n",
       "      <td>NF</td>\n",
       "      <td>83.0</td>\n",
       "      <td>Hillside Heights Rehabilitation Center</td>\n",
       "      <td>28.0</td>\n",
       "      <td>18.0</td>\n",
       "      <td>46.0</td>\n",
       "    </tr>\n",
       "    <tr>\n",
       "      <th>10</th>\n",
       "      <td>385049</td>\n",
       "      <td>385049</td>\n",
       "      <td>NF</td>\n",
       "      <td>90.0</td>\n",
       "      <td>Columbia Basin Care Facility</td>\n",
       "      <td>29.0</td>\n",
       "      <td>14.0</td>\n",
       "      <td>43.0</td>\n",
       "    </tr>\n",
       "    <tr>\n",
       "      <th>11</th>\n",
       "      <td>385053</td>\n",
       "      <td>385053</td>\n",
       "      <td>NF</td>\n",
       "      <td>92.0</td>\n",
       "      <td>Avamere Rehabilitation of Eugene</td>\n",
       "      <td>59.0</td>\n",
       "      <td>31.0</td>\n",
       "      <td>90.0</td>\n",
       "    </tr>\n",
       "    <tr>\n",
       "      <th>12</th>\n",
       "      <td>385055</td>\n",
       "      <td>385055</td>\n",
       "      <td>NF</td>\n",
       "      <td>64.0</td>\n",
       "      <td>Prestige Care and Rehabilitation of Reedwood</td>\n",
       "      <td>21.0</td>\n",
       "      <td>5.0</td>\n",
       "      <td>26.0</td>\n",
       "    </tr>\n",
       "    <tr>\n",
       "      <th>13</th>\n",
       "      <td>385064</td>\n",
       "      <td>385064</td>\n",
       "      <td>NF</td>\n",
       "      <td>102.0</td>\n",
       "      <td>Regency Care of Rogue Valley</td>\n",
       "      <td>15.0</td>\n",
       "      <td>9.0</td>\n",
       "      <td>24.0</td>\n",
       "    </tr>\n",
       "    <tr>\n",
       "      <th>14</th>\n",
       "      <td>385068</td>\n",
       "      <td>385068</td>\n",
       "      <td>NF</td>\n",
       "      <td>106.0</td>\n",
       "      <td>Village Health Care</td>\n",
       "      <td>9.0</td>\n",
       "      <td>7.0</td>\n",
       "      <td>16.0</td>\n",
       "    </tr>\n",
       "    <tr>\n",
       "      <th>15</th>\n",
       "      <td>385072</td>\n",
       "      <td>385072</td>\n",
       "      <td>NF</td>\n",
       "      <td>135.0</td>\n",
       "      <td>Corvallis Manor Nursing &amp; Rehabilitation Center</td>\n",
       "      <td>10.0</td>\n",
       "      <td>10.0</td>\n",
       "      <td>20.0</td>\n",
       "    </tr>\n",
       "    <tr>\n",
       "      <th>16</th>\n",
       "      <td>385077</td>\n",
       "      <td>385077</td>\n",
       "      <td>NF</td>\n",
       "      <td>136.0</td>\n",
       "      <td>Marquis Springfield</td>\n",
       "      <td>29.0</td>\n",
       "      <td>7.0</td>\n",
       "      <td>36.0</td>\n",
       "    </tr>\n",
       "    <tr>\n",
       "      <th>17</th>\n",
       "      <td>385091</td>\n",
       "      <td>385091</td>\n",
       "      <td>NF</td>\n",
       "      <td>87.0</td>\n",
       "      <td>Hearthstone Nursing and Rehabilitation Center</td>\n",
       "      <td>30.0</td>\n",
       "      <td>12.0</td>\n",
       "      <td>42.0</td>\n",
       "    </tr>\n",
       "    <tr>\n",
       "      <th>18</th>\n",
       "      <td>385104</td>\n",
       "      <td>385104</td>\n",
       "      <td>NF</td>\n",
       "      <td>100.0</td>\n",
       "      <td>Hood River Care Center</td>\n",
       "      <td>62.0</td>\n",
       "      <td>38.0</td>\n",
       "      <td>100.0</td>\n",
       "    </tr>\n",
       "    <tr>\n",
       "      <th>19</th>\n",
       "      <td>385107</td>\n",
       "      <td>385107</td>\n",
       "      <td>NF</td>\n",
       "      <td>67.0</td>\n",
       "      <td>Timberview Care Center</td>\n",
       "      <td>19.0</td>\n",
       "      <td>13.0</td>\n",
       "      <td>32.0</td>\n",
       "    </tr>\n",
       "    <tr>\n",
       "      <th>20</th>\n",
       "      <td>385112</td>\n",
       "      <td>385112</td>\n",
       "      <td>NF</td>\n",
       "      <td>180.0</td>\n",
       "      <td>West Hills Health &amp; Rehabilitation Center</td>\n",
       "      <td>18.0</td>\n",
       "      <td>13.0</td>\n",
       "      <td>31.0</td>\n",
       "    </tr>\n",
       "    <tr>\n",
       "      <th>21</th>\n",
       "      <td>385115</td>\n",
       "      <td>385115</td>\n",
       "      <td>NF</td>\n",
       "      <td>47.0</td>\n",
       "      <td>Lakeview Gardens LLC</td>\n",
       "      <td>6.0</td>\n",
       "      <td>7.0</td>\n",
       "      <td>13.0</td>\n",
       "    </tr>\n",
       "    <tr>\n",
       "      <th>22</th>\n",
       "      <td>385117</td>\n",
       "      <td>385117</td>\n",
       "      <td>NF</td>\n",
       "      <td>80.0</td>\n",
       "      <td>French Prairie Nursing and Rehabilitation Center</td>\n",
       "      <td>12.0</td>\n",
       "      <td>5.0</td>\n",
       "      <td>17.0</td>\n",
       "    </tr>\n",
       "    <tr>\n",
       "      <th>23</th>\n",
       "      <td>385120</td>\n",
       "      <td>385120</td>\n",
       "      <td>NF</td>\n",
       "      <td>121.0</td>\n",
       "      <td>Valley West Health Care Center</td>\n",
       "      <td>55.0</td>\n",
       "      <td>20.0</td>\n",
       "      <td>75.0</td>\n",
       "    </tr>\n",
       "    <tr>\n",
       "      <th>24</th>\n",
       "      <td>385121</td>\n",
       "      <td>385121</td>\n",
       "      <td>NF</td>\n",
       "      <td>100.0</td>\n",
       "      <td>Friendship Health Center</td>\n",
       "      <td>36.0</td>\n",
       "      <td>16.0</td>\n",
       "      <td>52.0</td>\n",
       "    </tr>\n",
       "    <tr>\n",
       "      <th>25</th>\n",
       "      <td>385125</td>\n",
       "      <td>385125</td>\n",
       "      <td>NF</td>\n",
       "      <td>95.0</td>\n",
       "      <td>Avamere Rehabilitation of Oregon City</td>\n",
       "      <td>29.0</td>\n",
       "      <td>23.0</td>\n",
       "      <td>52.0</td>\n",
       "    </tr>\n",
       "    <tr>\n",
       "      <th>26</th>\n",
       "      <td>385126</td>\n",
       "      <td>385126</td>\n",
       "      <td>NF</td>\n",
       "      <td>117.0</td>\n",
       "      <td>Avamere at Three Fountains</td>\n",
       "      <td>75.0</td>\n",
       "      <td>35.0</td>\n",
       "      <td>110.0</td>\n",
       "    </tr>\n",
       "    <tr>\n",
       "      <th>27</th>\n",
       "      <td>385132</td>\n",
       "      <td>385132</td>\n",
       "      <td>NF</td>\n",
       "      <td>148.0</td>\n",
       "      <td>Avamere Rehabilitation of King City</td>\n",
       "      <td>36.0</td>\n",
       "      <td>15.0</td>\n",
       "      <td>51.0</td>\n",
       "    </tr>\n",
       "    <tr>\n",
       "      <th>28</th>\n",
       "      <td>385133</td>\n",
       "      <td>385133</td>\n",
       "      <td>NF</td>\n",
       "      <td>82.0</td>\n",
       "      <td>Good Samaritan Society - Fairlawn Village</td>\n",
       "      <td>12.0</td>\n",
       "      <td>4.0</td>\n",
       "      <td>16.0</td>\n",
       "    </tr>\n",
       "    <tr>\n",
       "      <th>29</th>\n",
       "      <td>385136</td>\n",
       "      <td>385136</td>\n",
       "      <td>NF</td>\n",
       "      <td>100.0</td>\n",
       "      <td>Glisan Care Center</td>\n",
       "      <td>25.0</td>\n",
       "      <td>23.0</td>\n",
       "      <td>48.0</td>\n",
       "    </tr>\n",
       "    <tr>\n",
       "      <th>...</th>\n",
       "      <td>...</td>\n",
       "      <td>...</td>\n",
       "      <td>...</td>\n",
       "      <td>...</td>\n",
       "      <td>...</td>\n",
       "      <td>...</td>\n",
       "      <td>...</td>\n",
       "      <td>...</td>\n",
       "    </tr>\n",
       "    <tr>\n",
       "      <th>612</th>\n",
       "      <td>70M227</td>\n",
       "      <td>70M227</td>\n",
       "      <td>ALF</td>\n",
       "      <td>65.0</td>\n",
       "      <td>Avamere at Sherwood Assisted Living Facility</td>\n",
       "      <td>9.0</td>\n",
       "      <td>5.0</td>\n",
       "      <td>14.0</td>\n",
       "    </tr>\n",
       "    <tr>\n",
       "      <th>613</th>\n",
       "      <td>70M228</td>\n",
       "      <td>70M228</td>\n",
       "      <td>ALF</td>\n",
       "      <td>55.0</td>\n",
       "      <td>Cascadia Village Retirement Comm.</td>\n",
       "      <td>5.0</td>\n",
       "      <td>5.0</td>\n",
       "      <td>10.0</td>\n",
       "    </tr>\n",
       "    <tr>\n",
       "      <th>614</th>\n",
       "      <td>70M229</td>\n",
       "      <td>70M229</td>\n",
       "      <td>ALF</td>\n",
       "      <td>86.0</td>\n",
       "      <td>Callahan Village</td>\n",
       "      <td>34.0</td>\n",
       "      <td>19.0</td>\n",
       "      <td>53.0</td>\n",
       "    </tr>\n",
       "    <tr>\n",
       "      <th>615</th>\n",
       "      <td>70M230</td>\n",
       "      <td>70M230</td>\n",
       "      <td>ALF</td>\n",
       "      <td>75.0</td>\n",
       "      <td>Pelican Pointe Assisted Living Community</td>\n",
       "      <td>35.0</td>\n",
       "      <td>11.0</td>\n",
       "      <td>46.0</td>\n",
       "    </tr>\n",
       "    <tr>\n",
       "      <th>616</th>\n",
       "      <td>70M231</td>\n",
       "      <td>70M231</td>\n",
       "      <td>ALF</td>\n",
       "      <td>65.0</td>\n",
       "      <td>Avamere at Sandy Assisted Living  Facility</td>\n",
       "      <td>NaN</td>\n",
       "      <td>7.0</td>\n",
       "      <td>NaN</td>\n",
       "    </tr>\n",
       "    <tr>\n",
       "      <th>617</th>\n",
       "      <td>70M233</td>\n",
       "      <td>70M233</td>\n",
       "      <td>ALF</td>\n",
       "      <td>53.0</td>\n",
       "      <td>Morrow Heights Retirement &amp; Assisted Living Co...</td>\n",
       "      <td>3.0</td>\n",
       "      <td>1.0</td>\n",
       "      <td>4.0</td>\n",
       "    </tr>\n",
       "    <tr>\n",
       "      <th>618</th>\n",
       "      <td>70M234</td>\n",
       "      <td>70M234</td>\n",
       "      <td>ALF</td>\n",
       "      <td>70.0</td>\n",
       "      <td>Brookdale Eagle Point</td>\n",
       "      <td>26.0</td>\n",
       "      <td>42.0</td>\n",
       "      <td>68.0</td>\n",
       "    </tr>\n",
       "    <tr>\n",
       "      <th>619</th>\n",
       "      <td>70M236</td>\n",
       "      <td>70M236</td>\n",
       "      <td>ALF</td>\n",
       "      <td>79.0</td>\n",
       "      <td>Brookdale Rose Valley Scappoose</td>\n",
       "      <td>32.0</td>\n",
       "      <td>33.0</td>\n",
       "      <td>65.0</td>\n",
       "    </tr>\n",
       "    <tr>\n",
       "      <th>620</th>\n",
       "      <td>70M237</td>\n",
       "      <td>70M237</td>\n",
       "      <td>ALF</td>\n",
       "      <td>36.0</td>\n",
       "      <td>Nyssa Gardens Assisted Living Facility</td>\n",
       "      <td>1.0</td>\n",
       "      <td>2.0</td>\n",
       "      <td>3.0</td>\n",
       "    </tr>\n",
       "    <tr>\n",
       "      <th>621</th>\n",
       "      <td>70M238</td>\n",
       "      <td>70M238</td>\n",
       "      <td>ALF</td>\n",
       "      <td>60.0</td>\n",
       "      <td>McKay Creek Estates</td>\n",
       "      <td>5.0</td>\n",
       "      <td>3.0</td>\n",
       "      <td>8.0</td>\n",
       "    </tr>\n",
       "    <tr>\n",
       "      <th>622</th>\n",
       "      <td>70M239</td>\n",
       "      <td>70M239</td>\n",
       "      <td>ALF</td>\n",
       "      <td>80.0</td>\n",
       "      <td>Courtyard at Mt. Tabor</td>\n",
       "      <td>7.0</td>\n",
       "      <td>10.0</td>\n",
       "      <td>17.0</td>\n",
       "    </tr>\n",
       "    <tr>\n",
       "      <th>623</th>\n",
       "      <td>70M240</td>\n",
       "      <td>70M240</td>\n",
       "      <td>ALF</td>\n",
       "      <td>75.0</td>\n",
       "      <td>Prestige Senior Living Huntington Terrace</td>\n",
       "      <td>10.0</td>\n",
       "      <td>3.0</td>\n",
       "      <td>13.0</td>\n",
       "    </tr>\n",
       "    <tr>\n",
       "      <th>624</th>\n",
       "      <td>70M241</td>\n",
       "      <td>70M241</td>\n",
       "      <td>ALF</td>\n",
       "      <td>53.0</td>\n",
       "      <td>High Lookee Lodge</td>\n",
       "      <td>2.0</td>\n",
       "      <td>5.0</td>\n",
       "      <td>7.0</td>\n",
       "    </tr>\n",
       "    <tr>\n",
       "      <th>625</th>\n",
       "      <td>70M242</td>\n",
       "      <td>70M242</td>\n",
       "      <td>ALF</td>\n",
       "      <td>85.0</td>\n",
       "      <td>Lone Oak Assisted Living Facility</td>\n",
       "      <td>20.0</td>\n",
       "      <td>10.0</td>\n",
       "      <td>30.0</td>\n",
       "    </tr>\n",
       "    <tr>\n",
       "      <th>626</th>\n",
       "      <td>70M243</td>\n",
       "      <td>70M243</td>\n",
       "      <td>ALF</td>\n",
       "      <td>75.0</td>\n",
       "      <td>Prestige Senior Living Beaverton Hills</td>\n",
       "      <td>10.0</td>\n",
       "      <td>12.0</td>\n",
       "      <td>22.0</td>\n",
       "    </tr>\n",
       "    <tr>\n",
       "      <th>627</th>\n",
       "      <td>70M245</td>\n",
       "      <td>70M245</td>\n",
       "      <td>ALF</td>\n",
       "      <td>75.0</td>\n",
       "      <td>Avamere at Hillsboro Assisted Living Facility</td>\n",
       "      <td>11.0</td>\n",
       "      <td>13.0</td>\n",
       "      <td>24.0</td>\n",
       "    </tr>\n",
       "    <tr>\n",
       "      <th>628</th>\n",
       "      <td>70M247</td>\n",
       "      <td>70M247</td>\n",
       "      <td>ALF</td>\n",
       "      <td>60.0</td>\n",
       "      <td>Cambridge Terrace Assisted Living</td>\n",
       "      <td>17.0</td>\n",
       "      <td>15.0</td>\n",
       "      <td>32.0</td>\n",
       "    </tr>\n",
       "    <tr>\n",
       "      <th>629</th>\n",
       "      <td>70M248</td>\n",
       "      <td>70M248</td>\n",
       "      <td>ALF</td>\n",
       "      <td>97.0</td>\n",
       "      <td>Sun Terrace Hermiston</td>\n",
       "      <td>12.0</td>\n",
       "      <td>6.0</td>\n",
       "      <td>18.0</td>\n",
       "    </tr>\n",
       "    <tr>\n",
       "      <th>630</th>\n",
       "      <td>70M250</td>\n",
       "      <td>70M250</td>\n",
       "      <td>ALF</td>\n",
       "      <td>68.0</td>\n",
       "      <td>Deer Meadow Assisted Living Community</td>\n",
       "      <td>31.0</td>\n",
       "      <td>29.0</td>\n",
       "      <td>60.0</td>\n",
       "    </tr>\n",
       "    <tr>\n",
       "      <th>631</th>\n",
       "      <td>70M251</td>\n",
       "      <td>70M251</td>\n",
       "      <td>ALF</td>\n",
       "      <td>75.0</td>\n",
       "      <td>Brookdale Stayton</td>\n",
       "      <td>14.0</td>\n",
       "      <td>16.0</td>\n",
       "      <td>30.0</td>\n",
       "    </tr>\n",
       "    <tr>\n",
       "      <th>632</th>\n",
       "      <td>70M252</td>\n",
       "      <td>70M252</td>\n",
       "      <td>ALF</td>\n",
       "      <td>38.0</td>\n",
       "      <td>Laurelhurst House</td>\n",
       "      <td>2.0</td>\n",
       "      <td>5.0</td>\n",
       "      <td>7.0</td>\n",
       "    </tr>\n",
       "    <tr>\n",
       "      <th>633</th>\n",
       "      <td>70M253</td>\n",
       "      <td>70M253</td>\n",
       "      <td>ALF</td>\n",
       "      <td>51.0</td>\n",
       "      <td>Ridgeview Assisted Living Center</td>\n",
       "      <td>17.0</td>\n",
       "      <td>9.0</td>\n",
       "      <td>26.0</td>\n",
       "    </tr>\n",
       "    <tr>\n",
       "      <th>634</th>\n",
       "      <td>70M254</td>\n",
       "      <td>70M254</td>\n",
       "      <td>ALF</td>\n",
       "      <td>90.0</td>\n",
       "      <td>Brookdale Grants Pass Village</td>\n",
       "      <td>12.0</td>\n",
       "      <td>5.0</td>\n",
       "      <td>17.0</td>\n",
       "    </tr>\n",
       "    <tr>\n",
       "      <th>635</th>\n",
       "      <td>70M255</td>\n",
       "      <td>70M255</td>\n",
       "      <td>ALF</td>\n",
       "      <td>55.0</td>\n",
       "      <td>Woodland Heights</td>\n",
       "      <td>7.0</td>\n",
       "      <td>4.0</td>\n",
       "      <td>11.0</td>\n",
       "    </tr>\n",
       "    <tr>\n",
       "      <th>636</th>\n",
       "      <td>70M256</td>\n",
       "      <td>70M256</td>\n",
       "      <td>ALF</td>\n",
       "      <td>55.0</td>\n",
       "      <td>Wildflower Lodge Assisted Living Community</td>\n",
       "      <td>17.0</td>\n",
       "      <td>13.0</td>\n",
       "      <td>30.0</td>\n",
       "    </tr>\n",
       "    <tr>\n",
       "      <th>637</th>\n",
       "      <td>70M257</td>\n",
       "      <td>70M257</td>\n",
       "      <td>ALF</td>\n",
       "      <td>79.0</td>\n",
       "      <td>Marie Rose Center Assisted Living</td>\n",
       "      <td>1.0</td>\n",
       "      <td>2.0</td>\n",
       "      <td>3.0</td>\n",
       "    </tr>\n",
       "    <tr>\n",
       "      <th>638</th>\n",
       "      <td>70M258</td>\n",
       "      <td>70M258</td>\n",
       "      <td>ALF</td>\n",
       "      <td>70.0</td>\n",
       "      <td>Avamere Living at St. Helens</td>\n",
       "      <td>8.0</td>\n",
       "      <td>8.0</td>\n",
       "      <td>16.0</td>\n",
       "    </tr>\n",
       "    <tr>\n",
       "      <th>639</th>\n",
       "      <td>70M313</td>\n",
       "      <td>70M313</td>\n",
       "      <td>ALF</td>\n",
       "      <td>84.0</td>\n",
       "      <td>Springs at Tanasbourne II, LLC</td>\n",
       "      <td>4.0</td>\n",
       "      <td>4.0</td>\n",
       "      <td>8.0</td>\n",
       "    </tr>\n",
       "    <tr>\n",
       "      <th>640</th>\n",
       "      <td>70M350</td>\n",
       "      <td>70M350</td>\n",
       "      <td>ALF</td>\n",
       "      <td>119.0</td>\n",
       "      <td>Village at Keizer Ridge, The</td>\n",
       "      <td>NaN</td>\n",
       "      <td>NaN</td>\n",
       "      <td>NaN</td>\n",
       "    </tr>\n",
       "    <tr>\n",
       "      <th>641</th>\n",
       "      <td>7MU215</td>\n",
       "      <td>7MU215</td>\n",
       "      <td>ALF</td>\n",
       "      <td>126.0</td>\n",
       "      <td>St. Anthony Village</td>\n",
       "      <td>19.0</td>\n",
       "      <td>20.0</td>\n",
       "      <td>39.0</td>\n",
       "    </tr>\n",
       "  </tbody>\n",
       "</table>\n",
       "<p>642 rows × 8 columns</p>\n",
       "</div>"
      ],
      "text/plain": [
       "    facility_id fac_ccmunumber facility_type  fac_capacity  \\\n",
       "0        385008         385008            NF          96.0   \n",
       "1        385010         385010            NF         159.0   \n",
       "2        385015         385015            NF         128.0   \n",
       "3        385018         385018            NF          98.0   \n",
       "4        385024         385024            NF          91.0   \n",
       "5        385031         385031            NF         127.0   \n",
       "6        385039         385039            NF          84.0   \n",
       "7        385044         385044            NF          83.0   \n",
       "8        385045         385045            NF          99.0   \n",
       "9        385046         385046            NF          83.0   \n",
       "10       385049         385049            NF          90.0   \n",
       "11       385053         385053            NF          92.0   \n",
       "12       385055         385055            NF          64.0   \n",
       "13       385064         385064            NF         102.0   \n",
       "14       385068         385068            NF         106.0   \n",
       "15       385072         385072            NF         135.0   \n",
       "16       385077         385077            NF         136.0   \n",
       "17       385091         385091            NF          87.0   \n",
       "18       385104         385104            NF         100.0   \n",
       "19       385107         385107            NF          67.0   \n",
       "20       385112         385112            NF         180.0   \n",
       "21       385115         385115            NF          47.0   \n",
       "22       385117         385117            NF          80.0   \n",
       "23       385120         385120            NF         121.0   \n",
       "24       385121         385121            NF         100.0   \n",
       "25       385125         385125            NF          95.0   \n",
       "26       385126         385126            NF         117.0   \n",
       "27       385132         385132            NF         148.0   \n",
       "28       385133         385133            NF          82.0   \n",
       "29       385136         385136            NF         100.0   \n",
       "..          ...            ...           ...           ...   \n",
       "612      70M227         70M227           ALF          65.0   \n",
       "613      70M228         70M228           ALF          55.0   \n",
       "614      70M229         70M229           ALF          86.0   \n",
       "615      70M230         70M230           ALF          75.0   \n",
       "616      70M231         70M231           ALF          65.0   \n",
       "617      70M233         70M233           ALF          53.0   \n",
       "618      70M234         70M234           ALF          70.0   \n",
       "619      70M236         70M236           ALF          79.0   \n",
       "620      70M237         70M237           ALF          36.0   \n",
       "621      70M238         70M238           ALF          60.0   \n",
       "622      70M239         70M239           ALF          80.0   \n",
       "623      70M240         70M240           ALF          75.0   \n",
       "624      70M241         70M241           ALF          53.0   \n",
       "625      70M242         70M242           ALF          85.0   \n",
       "626      70M243         70M243           ALF          75.0   \n",
       "627      70M245         70M245           ALF          75.0   \n",
       "628      70M247         70M247           ALF          60.0   \n",
       "629      70M248         70M248           ALF          97.0   \n",
       "630      70M250         70M250           ALF          68.0   \n",
       "631      70M251         70M251           ALF          75.0   \n",
       "632      70M252         70M252           ALF          38.0   \n",
       "633      70M253         70M253           ALF          51.0   \n",
       "634      70M254         70M254           ALF          90.0   \n",
       "635      70M255         70M255           ALF          55.0   \n",
       "636      70M256         70M256           ALF          55.0   \n",
       "637      70M257         70M257           ALF          79.0   \n",
       "638      70M258         70M258           ALF          70.0   \n",
       "639      70M313         70M313           ALF          84.0   \n",
       "640      70M350         70M350           ALF         119.0   \n",
       "641      7MU215         7MU215           ALF         126.0   \n",
       "\n",
       "                                         facility_name  offline  online  total  \n",
       "0                   Presbyterian Community Care Center     14.0     7.0   21.0  \n",
       "1            Laurelhurst Village Rehabilitation Center     29.0    15.0   44.0  \n",
       "2      Regency Gresham Nursing & Rehabilitation Center     27.0     8.0   35.0  \n",
       "3                Providence Benedictine Nursing Center     18.0     5.0   23.0  \n",
       "4              Avamere Health Services of Rogue Valley     67.0    27.0   94.0  \n",
       "5                        Avamere Crestview of Portland     27.0    18.0   45.0  \n",
       "6                               Baycrest Health Center     62.0    28.0   90.0  \n",
       "7       Prestige Care and Rehabilitation of Menlo Park     30.0    27.0   57.0  \n",
       "8                          Porthaven Healthcare Center     18.0     8.0   26.0  \n",
       "9               Hillside Heights Rehabilitation Center     28.0    18.0   46.0  \n",
       "10                        Columbia Basin Care Facility     29.0    14.0   43.0  \n",
       "11                    Avamere Rehabilitation of Eugene     59.0    31.0   90.0  \n",
       "12        Prestige Care and Rehabilitation of Reedwood     21.0     5.0   26.0  \n",
       "13                        Regency Care of Rogue Valley     15.0     9.0   24.0  \n",
       "14                                 Village Health Care      9.0     7.0   16.0  \n",
       "15     Corvallis Manor Nursing & Rehabilitation Center     10.0    10.0   20.0  \n",
       "16                                 Marquis Springfield     29.0     7.0   36.0  \n",
       "17       Hearthstone Nursing and Rehabilitation Center     30.0    12.0   42.0  \n",
       "18                              Hood River Care Center     62.0    38.0  100.0  \n",
       "19                              Timberview Care Center     19.0    13.0   32.0  \n",
       "20           West Hills Health & Rehabilitation Center     18.0    13.0   31.0  \n",
       "21                                Lakeview Gardens LLC      6.0     7.0   13.0  \n",
       "22    French Prairie Nursing and Rehabilitation Center     12.0     5.0   17.0  \n",
       "23                      Valley West Health Care Center     55.0    20.0   75.0  \n",
       "24                            Friendship Health Center     36.0    16.0   52.0  \n",
       "25               Avamere Rehabilitation of Oregon City     29.0    23.0   52.0  \n",
       "26                          Avamere at Three Fountains     75.0    35.0  110.0  \n",
       "27                 Avamere Rehabilitation of King City     36.0    15.0   51.0  \n",
       "28           Good Samaritan Society - Fairlawn Village     12.0     4.0   16.0  \n",
       "29                                  Glisan Care Center     25.0    23.0   48.0  \n",
       "..                                                 ...      ...     ...    ...  \n",
       "612       Avamere at Sherwood Assisted Living Facility      9.0     5.0   14.0  \n",
       "613                  Cascadia Village Retirement Comm.      5.0     5.0   10.0  \n",
       "614                                   Callahan Village     34.0    19.0   53.0  \n",
       "615           Pelican Pointe Assisted Living Community     35.0    11.0   46.0  \n",
       "616         Avamere at Sandy Assisted Living  Facility      NaN     7.0    NaN  \n",
       "617  Morrow Heights Retirement & Assisted Living Co...      3.0     1.0    4.0  \n",
       "618                              Brookdale Eagle Point     26.0    42.0   68.0  \n",
       "619                    Brookdale Rose Valley Scappoose     32.0    33.0   65.0  \n",
       "620             Nyssa Gardens Assisted Living Facility      1.0     2.0    3.0  \n",
       "621                                McKay Creek Estates      5.0     3.0    8.0  \n",
       "622                             Courtyard at Mt. Tabor      7.0    10.0   17.0  \n",
       "623          Prestige Senior Living Huntington Terrace     10.0     3.0   13.0  \n",
       "624                                  High Lookee Lodge      2.0     5.0    7.0  \n",
       "625                  Lone Oak Assisted Living Facility     20.0    10.0   30.0  \n",
       "626             Prestige Senior Living Beaverton Hills     10.0    12.0   22.0  \n",
       "627      Avamere at Hillsboro Assisted Living Facility     11.0    13.0   24.0  \n",
       "628                  Cambridge Terrace Assisted Living     17.0    15.0   32.0  \n",
       "629                              Sun Terrace Hermiston     12.0     6.0   18.0  \n",
       "630              Deer Meadow Assisted Living Community     31.0    29.0   60.0  \n",
       "631                                  Brookdale Stayton     14.0    16.0   30.0  \n",
       "632                                  Laurelhurst House      2.0     5.0    7.0  \n",
       "633                   Ridgeview Assisted Living Center     17.0     9.0   26.0  \n",
       "634                      Brookdale Grants Pass Village     12.0     5.0   17.0  \n",
       "635                                   Woodland Heights      7.0     4.0   11.0  \n",
       "636         Wildflower Lodge Assisted Living Community     17.0    13.0   30.0  \n",
       "637                  Marie Rose Center Assisted Living      1.0     2.0    3.0  \n",
       "638                       Avamere Living at St. Helens      8.0     8.0   16.0  \n",
       "639                     Springs at Tanasbourne II, LLC      4.0     4.0    8.0  \n",
       "640                       Village at Keizer Ridge, The      NaN     NaN    NaN  \n",
       "641                                St. Anthony Village     19.0    20.0   39.0  \n",
       "\n",
       "[642 rows x 8 columns]"
      ]
     },
     "execution_count": 279,
     "metadata": {},
     "output_type": "execute_result"
    }
   ],
   "source": [
    "fac_pivot_merge"
   ]
  },
  {
   "cell_type": "code",
   "execution_count": null,
   "metadata": {
    "collapsed": true
   },
   "outputs": [],
   "source": []
  }
 ],
 "metadata": {
  "anaconda-cloud": {},
  "kernelspec": {
   "display_name": "Python [default]",
   "language": "python",
   "name": "python3"
  },
  "language_info": {
   "codemirror_mode": {
    "name": "ipython",
    "version": 3
   },
   "file_extension": ".py",
   "mimetype": "text/x-python",
   "name": "python",
   "nbconvert_exporter": "python",
   "pygments_lexer": "ipython3",
   "version": "3.5.2"
  }
 },
 "nbformat": 4,
 "nbformat_minor": 1
}
